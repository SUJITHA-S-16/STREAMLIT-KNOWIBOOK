{
  "nbformat": 4,
  "nbformat_minor": 0,
  "metadata": {
    "colab": {
      "provenance": []
    },
    "kernelspec": {
      "name": "python3",
      "display_name": "Python 3"
    },
    "language_info": {
      "name": "python"
    }
  },
  "cells": [
    {
      "cell_type": "markdown",
      "source": [
        "#STREAMLIT\n",
        "***Streamlit*** is an open-source app framework for Machine Learning and Data Science teams. Create beautiful web apps in minutes.\n",
        "\n",
        "From the data science pipeline, one of the most important steps is ***model deployment***. We have a lot of options in python for deploying our model. Some popular frameworks are Flask and Django. But the issue with using these frameworks is that we should have some knowledge of ***HTML, CSS, and JavaScript***.\n",
        "\n",
        "Keeping these prerequisites in mind, Adrien Treuille, Thiago Teixeira, and Amanda Kelly created “Streamlit”. Now using streamlit you can deploy any machine learning model and any python project with ease and without worrying about the frontend. Streamlit is very ***user-friendly***."
      ],
      "metadata": {
        "id": "OfDY_BWz02qR"
      }
    },
    {
      "cell_type": "markdown",
      "source": [
        "\n",
        "\n",
        "---\n",
        "\n"
      ],
      "metadata": {
        "id": "GfWIzUDI_G-z"
      }
    },
    {
      "cell_type": "markdown",
      "source": [
        "###STREAMLIT INSTALLATION\n",
        "\n",
        "Let’s install streamlit. Type the following command."
      ],
      "metadata": {
        "id": "ymQ_qlhf7iig"
      }
    },
    {
      "cell_type": "code",
      "source": [
        "!pip install streamlit"
      ],
      "metadata": {
        "colab": {
          "base_uri": "https://localhost:8080/"
        },
        "id": "MfL34825_Gt1",
        "outputId": "59474c4e-77e8-45d2-94e8-70fc87374200"
      },
      "execution_count": null,
      "outputs": [
        {
          "output_type": "stream",
          "name": "stdout",
          "text": [
            "Collecting streamlit\n",
            "  Downloading streamlit-1.26.0-py2.py3-none-any.whl (8.1 MB)\n",
            "\u001b[2K     \u001b[90m━━━━━━━━━━━━━━━━━━━━━━━━━━━━━━━━━━━━━━━━\u001b[0m \u001b[32m8.1/8.1 MB\u001b[0m \u001b[31m64.3 MB/s\u001b[0m eta \u001b[36m0:00:00\u001b[0m\n",
            "\u001b[?25hRequirement already satisfied: altair<6,>=4.0 in /usr/local/lib/python3.10/dist-packages (from streamlit) (4.2.2)\n",
            "Requirement already satisfied: blinker<2,>=1.0.0 in /usr/lib/python3/dist-packages (from streamlit) (1.4)\n",
            "Requirement already satisfied: cachetools<6,>=4.0 in /usr/local/lib/python3.10/dist-packages (from streamlit) (5.3.1)\n",
            "Requirement already satisfied: click<9,>=7.0 in /usr/local/lib/python3.10/dist-packages (from streamlit) (8.1.7)\n",
            "Requirement already satisfied: importlib-metadata<7,>=1.4 in /usr/local/lib/python3.10/dist-packages (from streamlit) (6.8.0)\n",
            "Requirement already satisfied: numpy<2,>=1.19.3 in /usr/local/lib/python3.10/dist-packages (from streamlit) (1.23.5)\n",
            "Requirement already satisfied: packaging<24,>=16.8 in /usr/local/lib/python3.10/dist-packages (from streamlit) (23.1)\n",
            "Requirement already satisfied: pandas<3,>=1.3.0 in /usr/local/lib/python3.10/dist-packages (from streamlit) (1.5.3)\n",
            "Requirement already satisfied: pillow<10,>=7.1.0 in /usr/local/lib/python3.10/dist-packages (from streamlit) (9.4.0)\n",
            "Requirement already satisfied: protobuf<5,>=3.20 in /usr/local/lib/python3.10/dist-packages (from streamlit) (3.20.3)\n",
            "Requirement already satisfied: pyarrow>=6.0 in /usr/local/lib/python3.10/dist-packages (from streamlit) (9.0.0)\n",
            "Collecting pympler<2,>=0.9 (from streamlit)\n",
            "  Downloading Pympler-1.0.1-py3-none-any.whl (164 kB)\n",
            "\u001b[2K     \u001b[90m━━━━━━━━━━━━━━━━━━━━━━━━━━━━━━━━━━━━━━\u001b[0m \u001b[32m164.8/164.8 kB\u001b[0m \u001b[31m16.3 MB/s\u001b[0m eta \u001b[36m0:00:00\u001b[0m\n",
            "\u001b[?25hRequirement already satisfied: python-dateutil<3,>=2.7.3 in /usr/local/lib/python3.10/dist-packages (from streamlit) (2.8.2)\n",
            "Requirement already satisfied: requests<3,>=2.18 in /usr/local/lib/python3.10/dist-packages (from streamlit) (2.31.0)\n",
            "Requirement already satisfied: rich<14,>=10.14.0 in /usr/local/lib/python3.10/dist-packages (from streamlit) (13.5.2)\n",
            "Requirement already satisfied: tenacity<9,>=8.1.0 in /usr/local/lib/python3.10/dist-packages (from streamlit) (8.2.3)\n",
            "Requirement already satisfied: toml<2,>=0.10.1 in /usr/local/lib/python3.10/dist-packages (from streamlit) (0.10.2)\n",
            "Requirement already satisfied: typing-extensions<5,>=4.1.0 in /usr/local/lib/python3.10/dist-packages (from streamlit) (4.7.1)\n",
            "Collecting tzlocal<5,>=1.1 (from streamlit)\n",
            "  Downloading tzlocal-4.3.1-py3-none-any.whl (20 kB)\n",
            "Collecting validators<1,>=0.2 (from streamlit)\n",
            "  Downloading validators-0.22.0-py3-none-any.whl (26 kB)\n",
            "Collecting gitpython!=3.1.19,<4,>=3.0.7 (from streamlit)\n",
            "  Downloading GitPython-3.1.34-py3-none-any.whl (188 kB)\n",
            "\u001b[2K     \u001b[90m━━━━━━━━━━━━━━━━━━━━━━━━━━━━━━━━━━━━━━\u001b[0m \u001b[32m188.6/188.6 kB\u001b[0m \u001b[31m18.7 MB/s\u001b[0m eta \u001b[36m0:00:00\u001b[0m\n",
            "\u001b[?25hCollecting pydeck<1,>=0.8 (from streamlit)\n",
            "  Downloading pydeck-0.8.0-py2.py3-none-any.whl (4.7 MB)\n",
            "\u001b[2K     \u001b[90m━━━━━━━━━━━━━━━━━━━━━━━━━━━━━━━━━━━━━━━━\u001b[0m \u001b[32m4.7/4.7 MB\u001b[0m \u001b[31m85.6 MB/s\u001b[0m eta \u001b[36m0:00:00\u001b[0m\n",
            "\u001b[?25hRequirement already satisfied: tornado<7,>=6.0.3 in /usr/local/lib/python3.10/dist-packages (from streamlit) (6.3.2)\n",
            "Collecting watchdog>=2.1.5 (from streamlit)\n",
            "  Downloading watchdog-3.0.0-py3-none-manylinux2014_x86_64.whl (82 kB)\n",
            "\u001b[2K     \u001b[90m━━━━━━━━━━━━━━━━━━━━━━━━━━━━━━━━━━━━━━━━\u001b[0m \u001b[32m82.1/82.1 kB\u001b[0m \u001b[31m8.8 MB/s\u001b[0m eta \u001b[36m0:00:00\u001b[0m\n",
            "\u001b[?25hRequirement already satisfied: entrypoints in /usr/local/lib/python3.10/dist-packages (from altair<6,>=4.0->streamlit) (0.4)\n",
            "Requirement already satisfied: jinja2 in /usr/local/lib/python3.10/dist-packages (from altair<6,>=4.0->streamlit) (3.1.2)\n",
            "Requirement already satisfied: jsonschema>=3.0 in /usr/local/lib/python3.10/dist-packages (from altair<6,>=4.0->streamlit) (4.19.0)\n",
            "Requirement already satisfied: toolz in /usr/local/lib/python3.10/dist-packages (from altair<6,>=4.0->streamlit) (0.12.0)\n",
            "Collecting gitdb<5,>=4.0.1 (from gitpython!=3.1.19,<4,>=3.0.7->streamlit)\n",
            "  Downloading gitdb-4.0.10-py3-none-any.whl (62 kB)\n",
            "\u001b[2K     \u001b[90m━━━━━━━━━━━━━━━━━━━━━━━━━━━━━━━━━━━━━━━━\u001b[0m \u001b[32m62.7/62.7 kB\u001b[0m \u001b[31m7.0 MB/s\u001b[0m eta \u001b[36m0:00:00\u001b[0m\n",
            "\u001b[?25hRequirement already satisfied: zipp>=0.5 in /usr/local/lib/python3.10/dist-packages (from importlib-metadata<7,>=1.4->streamlit) (3.16.2)\n",
            "Requirement already satisfied: pytz>=2020.1 in /usr/local/lib/python3.10/dist-packages (from pandas<3,>=1.3.0->streamlit) (2023.3)\n",
            "Requirement already satisfied: six>=1.5 in /usr/local/lib/python3.10/dist-packages (from python-dateutil<3,>=2.7.3->streamlit) (1.16.0)\n",
            "Requirement already satisfied: charset-normalizer<4,>=2 in /usr/local/lib/python3.10/dist-packages (from requests<3,>=2.18->streamlit) (3.2.0)\n",
            "Requirement already satisfied: idna<4,>=2.5 in /usr/local/lib/python3.10/dist-packages (from requests<3,>=2.18->streamlit) (3.4)\n",
            "Requirement already satisfied: urllib3<3,>=1.21.1 in /usr/local/lib/python3.10/dist-packages (from requests<3,>=2.18->streamlit) (2.0.4)\n",
            "Requirement already satisfied: certifi>=2017.4.17 in /usr/local/lib/python3.10/dist-packages (from requests<3,>=2.18->streamlit) (2023.7.22)\n",
            "Requirement already satisfied: markdown-it-py>=2.2.0 in /usr/local/lib/python3.10/dist-packages (from rich<14,>=10.14.0->streamlit) (3.0.0)\n",
            "Requirement already satisfied: pygments<3.0.0,>=2.13.0 in /usr/local/lib/python3.10/dist-packages (from rich<14,>=10.14.0->streamlit) (2.16.1)\n",
            "Collecting pytz-deprecation-shim (from tzlocal<5,>=1.1->streamlit)\n",
            "  Downloading pytz_deprecation_shim-0.1.0.post0-py2.py3-none-any.whl (15 kB)\n",
            "Collecting smmap<6,>=3.0.1 (from gitdb<5,>=4.0.1->gitpython!=3.1.19,<4,>=3.0.7->streamlit)\n",
            "  Downloading smmap-5.0.0-py3-none-any.whl (24 kB)\n",
            "Requirement already satisfied: MarkupSafe>=2.0 in /usr/local/lib/python3.10/dist-packages (from jinja2->altair<6,>=4.0->streamlit) (2.1.3)\n",
            "Requirement already satisfied: attrs>=22.2.0 in /usr/local/lib/python3.10/dist-packages (from jsonschema>=3.0->altair<6,>=4.0->streamlit) (23.1.0)\n",
            "Requirement already satisfied: jsonschema-specifications>=2023.03.6 in /usr/local/lib/python3.10/dist-packages (from jsonschema>=3.0->altair<6,>=4.0->streamlit) (2023.7.1)\n",
            "Requirement already satisfied: referencing>=0.28.4 in /usr/local/lib/python3.10/dist-packages (from jsonschema>=3.0->altair<6,>=4.0->streamlit) (0.30.2)\n",
            "Requirement already satisfied: rpds-py>=0.7.1 in /usr/local/lib/python3.10/dist-packages (from jsonschema>=3.0->altair<6,>=4.0->streamlit) (0.9.2)\n",
            "Requirement already satisfied: mdurl~=0.1 in /usr/local/lib/python3.10/dist-packages (from markdown-it-py>=2.2.0->rich<14,>=10.14.0->streamlit) (0.1.2)\n",
            "Collecting tzdata (from pytz-deprecation-shim->tzlocal<5,>=1.1->streamlit)\n",
            "  Downloading tzdata-2023.3-py2.py3-none-any.whl (341 kB)\n",
            "\u001b[2K     \u001b[90m━━━━━━━━━━━━━━━━━━━━━━━━━━━━━━━━━━━━━━\u001b[0m \u001b[32m341.8/341.8 kB\u001b[0m \u001b[31m24.3 MB/s\u001b[0m eta \u001b[36m0:00:00\u001b[0m\n",
            "\u001b[?25hInstalling collected packages: watchdog, validators, tzdata, smmap, pympler, pytz-deprecation-shim, pydeck, gitdb, tzlocal, gitpython, streamlit\n",
            "  Attempting uninstall: tzlocal\n",
            "    Found existing installation: tzlocal 5.0.1\n",
            "    Uninstalling tzlocal-5.0.1:\n",
            "      Successfully uninstalled tzlocal-5.0.1\n",
            "Successfully installed gitdb-4.0.10 gitpython-3.1.34 pydeck-0.8.0 pympler-1.0.1 pytz-deprecation-shim-0.1.0.post0 smmap-5.0.0 streamlit-1.26.0 tzdata-2023.3 tzlocal-4.3.1 validators-0.22.0 watchdog-3.0.0\n"
          ]
        }
      ]
    },
    {
      "cell_type": "markdown",
      "source": [
        "###HOW TO RUN A STREAMLIT FILE?\n",
        "\n",
        "***SYNTAX:***\n",
        "\n",
        "      streamlit run filename.py\n",
        "\n",
        "This command should be run in ***command prompt***\n"
      ],
      "metadata": {
        "id": "nxxNi27m-4mU"
      }
    },
    {
      "cell_type": "markdown",
      "source": [
        "\n",
        "\n",
        "---\n",
        "\n"
      ],
      "metadata": {
        "id": "ooF-Y-ju_NF6"
      }
    },
    {
      "cell_type": "markdown",
      "source": [
        "###BASIC FUNCTIONS OF STREAMLIT\n",
        "\n",
        "1.title()\n",
        "\n",
        "2.header()\n",
        "\n",
        "3.subheader()\n",
        "\n",
        "4.markdown()\n",
        "\n",
        "5.write()\n",
        "\n",
        "6.success()\n",
        "\n",
        "7.info()\n",
        "\n",
        "8.warning()\n",
        "\n",
        "9.error()\n",
        "\n",
        "10.image()\n",
        "\n",
        "11.checkbox()\n",
        "\n",
        "12.radio()\n",
        "\n",
        "13.selectbox()\n",
        "\n",
        "14.multiselect()\n",
        "\n",
        "15.button()\n",
        "\n",
        "16.text_input()\n",
        "\n",
        "17.slider()\n"
      ],
      "metadata": {
        "id": "3U7gEF5JIEkE"
      }
    },
    {
      "cell_type": "markdown",
      "source": [
        "\n",
        "\n",
        "---\n",
        "\n"
      ],
      "metadata": {
        "id": "_sDcecx2CUwD"
      }
    },
    {
      "cell_type": "markdown",
      "source": [
        "**1.title()**\n",
        "\n",
        "Display text in title formatting.\n",
        "\n",
        "Each document should have a single ***st.title()***, although this is not enforced.\n",
        "\n",
        "**Function signature**\n",
        "\n",
        "`st.title(body, anchor=None, *, help=None)`"
      ],
      "metadata": {
        "id": "sHdTUxGXKLDX"
      }
    },
    {
      "cell_type": "code",
      "source": [
        "import streamlit as st\n",
        "\n",
        "st.title(\"HELLO WORLD\")"
      ],
      "metadata": {
        "id": "JmIGMIQYDuhd"
      },
      "execution_count": null,
      "outputs": []
    },
    {
      "cell_type": "markdown",
      "source": [
        "![Screenshot (28).png](data:image/png;base64,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)"
      ],
      "metadata": {
        "id": "i3LP5psJD0m0"
      }
    },
    {
      "cell_type": "markdown",
      "source": [
        "=============================================================================================================="
      ],
      "metadata": {
        "id": "O90lOXw9EJ6X"
      }
    },
    {
      "cell_type": "markdown",
      "source": [
        "**2.header()   &    3.subheader()**\n",
        "\n",
        "Display text in header and subheader formatting.\n",
        "\n",
        "<b>Function Signature </b>\n",
        "\n",
        "`st.header(body, anchor=None, *, help=None, divider=False)`<br>\n",
        "`st.subheader(body, anchor=None, *, help=None, divider=False)`"
      ],
      "metadata": {
        "id": "N7dyWDwmMqrt"
      }
    },
    {
      "cell_type": "code",
      "source": [
        "import streamlit as st\n",
        "\n",
        "st.header(\"HEADER LINE\")\n",
        "st.subheader(\"SUB HEADER LINE\")"
      ],
      "metadata": {
        "id": "6xpZtYgdMwsT"
      },
      "execution_count": null,
      "outputs": []
    },
    {
      "cell_type": "markdown",
      "source": [
        "![Screenshot (29).png](data:image/png;base64,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)"
      ],
      "metadata": {
        "id": "tge0fvSmFCr7"
      }
    },
    {
      "cell_type": "markdown",
      "source": [
        "=================================================================================================================="
      ],
      "metadata": {
        "id": "pM5xinBEFK4s"
      }
    },
    {
      "cell_type": "markdown",
      "source": [
        "**4.markdown()**\n",
        "\n",
        "Display string formatted as Markdown.\n",
        "\n",
        "<b>Function Signature </b>\n",
        "\n",
        "`st.markdown(body, unsafe_allow_html=False, *, help=None)`"
      ],
      "metadata": {
        "id": "5A9Nb_pcNQQK"
      }
    },
    {
      "cell_type": "code",
      "source": [
        "import streamlit as st\n",
        "\n",
        "st.markdown(\"### MARKDOWN 1\")\n",
        "st.markdown(\"## MARKDOWN 2\")\n",
        "st.markdown(\"# MARKDOWN 3\")"
      ],
      "metadata": {
        "id": "6Wc_vs4oNcMM"
      },
      "execution_count": null,
      "outputs": []
    },
    {
      "cell_type": "markdown",
      "source": [
        "![Screenshot (30).png](data:image/png;base64,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)"
      ],
      "metadata": {
        "id": "tcXPc0ZwFyYI"
      }
    },
    {
      "cell_type": "markdown",
      "source": [
        "=================================================================================================================="
      ],
      "metadata": {
        "id": "gieaFAzOGB9m"
      }
    },
    {
      "cell_type": "markdown",
      "source": [
        "**5.success()  , 6.info()  , 7.warning()  ,8.error()**"
      ],
      "metadata": {
        "id": "_5c274lbR3WB"
      }
    },
    {
      "cell_type": "code",
      "source": [
        "import streamlit as st\n",
        "\n",
        "st.success(\"Success\")\n",
        "st.info(\"Info\")\n",
        "st.warning(\"Warning\")\n",
        "st.error(\"Error\")"
      ],
      "metadata": {
        "id": "asSz1P2JTdFs"
      },
      "execution_count": null,
      "outputs": []
    },
    {
      "cell_type": "markdown",
      "source": [
        "=================================================================================================================="
      ],
      "metadata": {
        "id": "pOFgXhDSHYiu"
      }
    },
    {
      "cell_type": "markdown",
      "source": [
        "**9.checkbox()**\n",
        "\n",
        "Display a checkbox widget\n",
        "\n",
        "<b> Function Signature </b>\n",
        "\n",
        "`st.checkbox(label, value=False, key=None, help=None, on_change=None, args=None, kwargs=None, *, disabled=False, label_visibility=\"visible\")`"
      ],
      "metadata": {
        "id": "5D6WvNj3WQ6U"
      }
    },
    {
      "cell_type": "code",
      "source": [
        "import streamlit as st\n",
        "\n",
        "st.checkbox(\"Checkbox\")"
      ],
      "metadata": {
        "id": "thTIbvs3Wlm5"
      },
      "execution_count": null,
      "outputs": []
    },
    {
      "cell_type": "markdown",
      "source": [
        "![Screenshot (31).png](data:image/png;base64,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)"
      ],
      "metadata": {
        "id": "pPFQtMkEG0pr"
      }
    },
    {
      "cell_type": "markdown",
      "source": [
        "=================================================================================================================="
      ],
      "metadata": {
        "id": "rRj6fgmmHRcp"
      }
    },
    {
      "cell_type": "markdown",
      "source": [
        "**10.radio()**\n",
        "\n",
        "Display a radio button widget\n",
        "\n",
        "<b> Function Signature </b>\n",
        "\n",
        "`st.radio(label, options, index=0, format_func=special_internal_function, key=None, help=None, on_change=None, args=None, kwargs=None, *, disabled=False, horizontal=False, captions=None, label_visibility=\"visible\")`"
      ],
      "metadata": {
        "id": "4s13IZfbXb1V"
      }
    },
    {
      "cell_type": "code",
      "source": [
        "import streamlit as st\n",
        "\n",
        "st.radio(\"Select Gender: \", ('Male', 'Female'))# first argument is the title of the radio button, second argument is the options for the radio button"
      ],
      "metadata": {
        "id": "W9VDzpZAXg2g"
      },
      "execution_count": null,
      "outputs": []
    },
    {
      "cell_type": "markdown",
      "source": [
        "![Screenshot (32).png](data:image/png;base64,iVBORw0KGgoAAAANSUhEUgAAAnQAAAFlCAYAAABiC3VsAAAAAXNSR0IArs4c6QAAAARnQU1BAACxjwv8YQUAAAAJcEhZcwAADsMAAA7DAcdvqGQAAAAhdEVYdENyZWF0aW9uIFRpbWUAMjAyMzowOTowMiAyMDoyMTozNRSp0JYAABucSURBVHhe7d0PlF5lfSfw3wTQoBAEkhmIjAIWRcxIFiPdFXWLXYtJkYIhnrItXeBg2A2hp55d3dOWzOEk9LTV3eopkEr0AIutrAYMi5iAbqG7VmzjGNGEFGVBNPwxM0Hkn0TIn32fO/d9574z7zuTZAZ8H/L5nHN93+d57nPvnfegfnme+9zb9cWe43YHvEL93TM/i0OnTYvX1LaDoisOqNVN6+oabnyp7a79V+vlOhcA+7Vp5Se8Ik2f1hU7YnfsqmWr9G8uu2r/uTsFrZda7Rz+TQmAl4sROl7R/uXF7bHhl7+IGV3TYnptO7Crq/i3GONmALySCHS84j3wwvZ4YMcv48Xdu4sgl6ZcBToAXkkEOgCAzLmHDgAgcwIdAEDmBDoAgMy1vYcuPebh+d27ii3dTL4zhrfh28oBAOgUY0bo0nO6frZzR/xkxwsxtGtHPFsLdL+s1e2otQlzAACdpynQPbNrVzyy48V4uhbiOjO7WZALADBaI9A9tXNnPLHzxahFuc5UPN3fCCEAwGhFoBvauSOe3L2zlpc6ODB5JyYAQEvTnt61M55LU6wAAGRp2hM703IHAABy1fWXR75+ylYazJ53SvSd9+E48s0nxJFveXNR98QPfhjbatvGL3wpHt/w3aIOAICpMyWBbtpBB8V7/+Tj8fbzz4uBv/lsPDawIbZu3FS0HXXy22P2O98R7/xPH4nvXndjfOMv/lvsevHFog0AgMmbdKDrOuCA+P07/lf8YuiJuOOjH4vntg6WLc0OOaonPvDpT8bBRxwefzv/7Ni9c2fZAgDAZEw60L3nTz4eR819e6z+8O+XNeM793/eGI9/93vxzb/872XNvjorzrlvZcxYc0z8j8vLqpfAiTduiLN6b4tPnH5FxJV3xsfP2RK3ve3iuL9sf7lMv+jP49h3H1aWfhRbL/pkPFmW4v0fixPPO64sJE/FU1f+cTz+UFlsah/Vt+H0eON18+Lplm0AQCeb1Ltcj/5Xc+PkP/i9+Oqlf1TWjHjv5f815l/1V2VpxLo//M/xjosvjJ6T+8oakvfd/UgsufGssjRKLZAd++6f1YLYkri/tj38j0dEz6fOj+ll8/TeIyIeXF20DW+VMHf8+fFr5x1RC3it+yYpLJ543aI4uCwDAHmZVKCbe+H5sXn1l+MXQ9vKmhE/uO2rsemmL5WlEc8NDsV9N385Tj7/35c1TGQ4sA00Rs62/8Pm2HHYUU0BbMfjPyq/NZv+GyfFgQ9+rRHwtl/3tXj+sJPi8OOHy8XIX9/mePjKbxWvdwMA8jOpQHfkCb8Wj377O2Wp2c4XXoynH3m0LDV79J+/XfSdcmlKdNsjI9vdV5QNpXM+F0sq7Y0RsVH92o6UlWbfuGFk/9HnmOAa0khco+2+z8WJxdTxIzGvL+KQBStr9RvinHMiDv/TlXHin55e9CkC3Jt+K46uh7AipI0EvIOPrk/FjnZsHN53WDy//u6ynNwdTz94WLz2N44tStuv++O4/6Ofj+1FCQDI0aQC3REnvCkeXf/tstTsLWf9dsz53UVlqdmj6weKR5tMqRSk/uOseOAjx8QnZqZtSTzQffFIOEth7rOnxOON9s/F48Mt8b7TIgaKutr2mftqwerSeF/ZNkbPB2oh7IrhfT9yRzzbd3H8hyvLtomuodY+r/uOuK08121rHqlV3hZr3nZMDGyMeHbtklr9KbFmzfDuDQ99Pv7flZvjtZfXQt51K+PYo78W9/9ZNaRFHPjujxdtaXvj+8tKAGC/MKlAt/OXL8SufVitumvHjti9a2rfTvG+095WC0RXVMJQLSitqYWzd5xVC2C19j/8QERTe+37H9xWfLvr9DPiruJbzeXfiq0xKw47pyyPtvWOuKvsF2sujvtrQey1bxgObBNdQ6GnN2aXX++//Iq2iyue/LMlI6EtLWq4LOKR+j1y6+fVgtvH4vDh1uF9621XfisOOk+oA4D9yaQC3eCm+6JnztvK0p7reXtfbP1+LQlNmbPisO6I535SBq2672yJZ4sA1aa9rmkq9uLoKav3zkTXUHP5GfGJz0TMK84zPLU6sWPj6AXHxfNrK9OiX/9kbH3wuJjRKrQ99Pl45B+fioNPHZ6ubefFLQ+X3wCA3E0q0G3deF909+1DoOubEz/9/vCDh6fGbfHU4MhIWZOtW+Kx8dqLqdjeuL+cBk1TsVvLpr0z0TWUUqhL5/nIhjj6s3sa6vbe8CKJh2P7toiDeofvlxt2esx401PxwoNlEQDI3qQC3ff/9qbiPrlXHXJIWTPiuaGh2PnCC2VpxKtnzIiTPvyh2PiFL5Y1U+Oub6Z7366oBKSz4pwrPxDxnduKac2x7bXv6d62d/TGIdXAdeW/2ccRuomv4cQb7xxpW/NIPFd+bWVkUcTD8eTGp+LgBZVHjbz/Y9Hzph/F019PhWPj6Isqo3HHnx/HvLv2+//D8Ajckzd9K+Ldl4wsqLjot+LgpzbHk/XHmgAA2ZtUoPv5wz+OTV+8ORZc86myZsS9138+/unTV5elEWd99poiCD7145+UNVOkmM4cihM+W586XRlHf2dJrKzf7zam/eKYkaZHL78mHogPxFn1KdfTYh9H6GomuIb7a39y9fzxmZEFEHf99R0RlVWuVWkl6sMbT4pjy0UPJxbPlas8ALhvUWNBxImXnxTPVR8qnBZU3PSzOKy+oCI9osSqVgB4RZn8q7+mTYvfW3drPP/Ek3HHH/2X4jlzrby2pzvmf/qTMf11r4u/++1zpnxRBADA/uqA979mxqgHqe2l3buLUbqZbzkhFlz1VzHtgAPjoNccHNuf/Hm8+rAZccyvvzNO+tDvxJl/89fx4Nfviq8u/aj3uAIATKFJj9BVzZ53SvSd9+HiGXNHvuXNRd0TP/hhbKttG7/wpXh8w3eLOgAApk7XXxwxe3dXV1dZBAAgN9MOn3ZA+RUAgBxNe90BB8YhXZNa7AoAwK9QkeRm1kLdEWmkbveU3U439Tr52gAAfoUaQ3MzaoFu1oEHxQGdmpuK+/yEOgCA0ZrmWl/bNS16D3pVHDntwDiorOssFm8AAIzW8ua5Q6dNi9cf+KroPeCgItyl8vSursm9VgIAgJdE1xd7jjOPCQCQMYNuAACZ67qp+1gjdAAAGeu6YdYbBDoAgIx17f7d36kFupTpRq0gnWhBabv29HiR9My4xmNGqp/lR4vTNex1e7Wi9tl0/hbaVDeMaW913Pr5Ksb0G2WP26vHr5ynXf9Ru40xpr1aUfuc8t9rlPF+rxbVDRMet/xsOlDlc7y/Z6LzNrVXK8rjTvR7TXT88TT9Xi0ONN5x9+i81R0rn+3+nrp2zdXDtDIVv9dEx6/+HaM7tOtX1669cZjq8Sqf+/p71bVrb/q9Rp+3/KgUx5iwvdYw0fHH06591GFGlA3FectiK+3q69q2V47fOEHlRKOKY0zYXmt4KX6vujHt1eOPPm9Fm+qGdvUtj1s50KjiGHvdPqpiTPso7errxrRXD1j7nPLfq9Tu96ob77gTnbepvVpR+0zn3Yv//SwDXfpW/GcLZY9f6R9UFlup7t7KmPpqh/L44x2gTXXTYVpp1LfZsV2/uvGO23S4akXtcy//ARhjTHu1on7ccQ7QprrpMK002qs7Vjq061e3x+3V49Y+p/z3GmVff6+6Cdurx698Fn9XWWylXX1do708XtNxy89Wqru3MmF7reEl/T/QVsctz1c5zRjt6uvatleOP57xzjvuddUaJvq9xu1ffrbT7veqd2zXf9RuY7Srr3ds9/fUtevfZveGqfi9JmpvMqpDu3514x235XnLhn39veratTcOVz1u5fijimPsdXu1ovbZdN4W2lQ3jGmvHHfMPwcVY/qNssfto44/qjjGXrdXK3ZH14zDe1IJAIBMWeUKAJA5gQ4AIHMCHQBA5gQ6AIDMCXQAAJkT6AAAMifQAQBkTqADAMicQAcAkDmBDgAgcwIdAEDmBDoAgMwJdAAAmRPoAAAyJ9ABAGROoAMAyJxABwCQOYEOACBzAh0AQOYEOgCAzAl0AACZE+gAADIn0AEAZE6gAwDInEAHAJA5gQ4AIHMCHQBA5gQ6AIDMCXQAAJkT6AAAMifQAQBkTqADAMicQAcAkDmBDgAgcwIdAEDmBDoAgMwJdAAAmRPoAAAyJ9ABAGROoAMAyJxABwCQOYEOACBzAh0AQOYEOgCAzAl0AACZE+gAADIn0AEAZE6gAwDInEAHAJA5gQ4AIHMCHQBA5gQ6AIDMCXQAAJkT6AAAMifQAQBkTqADAMicQAcAkDmBDgAgcwIdAEDmBDoAgMwJdAAAmRPoAAAyJ9ABAGROoAMAyJxABwCQOYEOACBzAh0AQOYEOgCAzAl0AACZE+gAADIn0AEAZE6gAwDInEAHAJA5gQ4AIHMCHQBA5gQ6AIDMCXQAAJkT6AAAMifQAQBkTqADAMicQAcAkDmBDgAgcwIdAEDmBDoAgMwJdAAAmRPoAAAyJ9ABAGROoAMAyJxABwCQOYEOACBzAh0AQOYEOgCAzAl0AACZE+gAADIn0AEAZE6gAwDInEAHAJA5gQ4AIHMCHQBA5gQ6AIDMCXTwStG/LrZtXBULy2LuFl6/IbbduawsATAegQ46zrK4e+uW2FbfXs6QtmhVbJ7ofCk4Vq9P6AL4lRPooKOcHTdsXBw9ay+LmT29xXbJwLy4tkNCUzFqdmnEyvLa0rYyFsfm688u9wDgV0Ggg47SF2/sHor1a28tyxG3XHhKzDxjRVmqqY6QjTualsLhyEja3f1ldaG5rQhk6bhXz4/u7vlxbaofEyKXxdIFEbcvnR/VQ/Wf0RsnXThyvUXoK49bPUaq33z9snGuqToyuSGWzi6rG5rbb1hUVhf162J5/XdJ50wjjbXvzccHeOUS6KCjrIhv3Dsrzry6TRhJoaUyQpZG71a0HB1Lge2qOHWgPtK3KuLSWuiptJ352Kqy7bK4uRYkFy6fHzOv2RQxuC4uSfXVEJn0vyv6BgfiK6vLcgsptF07b2C4f21Lo3fVv6N7wTkRy8trXzsUfbXgNRxIh0cm++6tX9Py+PHsWUXLsBTaFkdcM9x35tKBOLW/GmbnxJLT7hluS9f91t7oLlsA9gcCHXSYNOI1c+m66Lm0HI2qjHItP21ObLxmZITslrUDEfMWjB2lW7QgTo11sawxcpaC4px4T+qY2ro3xcpGYLs1+i9cEbeUpXYWHtdTfhtWHYkbnnI9Oz44L+L25Ysbx+r/5qboO60y0nfvmrigDITp2ge7e+PkVGhxTV8ZGCq/16QwWQt7pw8n0ojVa2N9zIsPNkbphuL2z1UCaAqntXDX2B/gFU6gg060enGcVIxUXRa3z15chrqz4w2zI/rqQS9taYp0uEezNEJVnzottyVzK22DW+J7ZXFP3fKjreW3YcVUcO0a00jbsDRdPDy62Li+S+eUbROY4JqKMDm39js0/p6r4kxDcAANAh10tFvjgtWbamHmXeV0acTG+rRjfesbGRFrUp86rWyNEav6yNje+JctMdhdHRVrZShuX9p8zjFTt+1MdE2N6dj6dkpjtA9gfyfQQScpbuyv3vA/PM0a994T/WW462vcC5ecHQtbBazl18btMb/5/rpFtX3TZ2obnBNLqlO5/ZVp0XbBavXiWLY24syrq+ePOLlxr9uKuDq1N93b1ub6Rlt+T2yMOXFu43rTAoyRe+huuXBNbJzbfD/ewtrf05ZFEcB+RqCDTlIsTNjaNG25ZPa6uKQ+ylW0RyxpTD32x4oFZRgrRtDqIa4W/voui/XzrmocZ1v/JXFyEa5S26oiINXbzl3UOxzS6mEv1bdYQVtMszadf/j66vfqpfbiMSuN9v5Y+tZxglfDijh96bqIBfXrfVd8Iy3QaKi1Fws7Rs67on9BU7BsYlEEsJ/pmnF4z+7yOwAAGTJCBwCQOYEOACBzAh0AQOYEOgCAzAl0AACZE+gAADIn0AEAZE6gAwDInEAHAJA5gQ4AIHMCHQBA5gQ6AIDMCXQAAJkT6AAAMifQAQBkTqADAMhc14zDe3aX34EOdeqhh8R5s46M9x52aBw7/dVF3cPbfxn/96ln4qahJ2L9M88WdQDsnwQ66HCfOv6NcdFRs8pSa9f9dCg++tCPyxIA+xtTrtDBvnzSCROGuSTtk/bdGwuv3xDbtm6IGxaVFRXL79zStq21s+OGjVti8/Vnl2UAXk4CHXSoNDL3m687rCxNLO2b+uydWXHqgtEhbFm8Z275FYAsCHTQgdI9c3syMjda6pP67qnBezdFzFsQC8tyof9d0Te4KTYOlmUAOp5ABx0oLYBo5fmLLo6nr/98saXvrbTr20p3bIn1MS8+WJlaXX7anBgc2JIamy1aFZu3pqnYctu4qjkItjA8dbvn+wOwbwQ66EBpNetoKcC98P4zYvf06cWWvrcKda36trclvjIQlWnXNN06FOvX1gJdk2Vx99W9cXNPb8wstlWxsXt+rBjnnrkU5pbEqnL/3rhkYF5cK9QBvCQEOuhA9UeTVL34nn9bfhvRqq5V3/HcsraW6OrTrsV060B8ZXXRVLEiTu+ZH/1lKZW/cW9E9+y+sjzKolVx7txNsfKMFWVF7TwXrqmFwObRQACmhkAH+7vVaxvTrguP64nBgbVxS9k0RmXadUlaODG7t/WI21t7ozvmxJL6dGuxLY428Q+ASRLooAOlhwaPdtA3/k/5bUSrulZ9x3drOe26LD44L2L92lvL+qrhx5Jsu3perF9aTqGuHSrbxkrBMAbXxSWNKdr6dkpcMGb0D4DJEuigA6U3QIx28HWfi1d9/c7o2r692NL3VDdaq74TKaZdFyyOMx9b0zpw9V8SZ3ZvipV7GMjS8QZNrwK8bAQ66EDpdV6tpAA348Lzi61VmEva9R1XmnYdjNj4zZF73sbqiTfUA1r/urh2wTiPVVm9OG6+d1acefW6WF5WpVG+5f0ePAzwUhDooAOld7Om13ntrdRn397remtc0Ncbp4+kr2bL58fKIqCV98Oddk/MvGZT2ZjcGj95LKJ7wVVxd7lyov+M3lqf6n10V8W5p/VZ5QrwEvAuV+hg6XVee/q2iL//+VPxoc0PlCUA9idG6KCDpYC2JyN1aR9hDmD/ZYQOMpBe55XeAJEeGlx/zlxazZoWQKR75vZtmhWAVwqBDgAgc6ZcAQAyJ9ABAGROoAMAyJxABwCQOYEOACBzAh0AQOYEOgCAzAl0AACZ82BhyMCsWTPjTccfH0cd1ROHHnpIUffMM8/GT3+6NR586KEYGtpW1AGwfxLooMP9618/NY455vXxwwceisce/2kR5JIU7GYffVS8+YTj45FHHo1/+uf1RT0A+x+BDjrYv/vN0+P57S/EwHfujV27dpW1zaZNmxbz3jE3Dp7+qvjff393WQvA/sQ9dNCh0shcCnPrv72hbZhLUlvaJ+2b+uyphddviG1bt4zZNl9/drnHy2/5nbVruHNZWQJgTwl00IHSPXNpmjWNzO2ptG/qk/ruscF1cUlPb8ysbCddeGvZCEAuBDroQGkBRLpnbryRudHSvqlP6gvA/kWggw6UVrOmBRB7K/VJfadKMQVan47duCoWlvWxaFVs3roulhef9X1q5dTWv26kz5jp02Vxd2P/Sp9xNE8NT7w/wP5IoIMOlFaw1lez7o3Up/5Yk8lKYW5JrGpMxV4yMC+urYa6mBNL+msRrWi/LG4frJVT6DrtnuE+S9fF4NzFcXdtn2Fnxw0bz4kfL61P75Z9xrlnLoW5a+cNjEwLXxO1cwh1AKMJdLA/654f1zZGv2pbPbAtWhXnzt0UK89YUeyW3HLhmtjYPS8+uKisiKG4ffniuKX4fmt8ZWBo+J68ep/Va2P9YETPcfVFFrfGBX2nxAWry2K9z+zeSkisWhZLF0TlHDXLry1C4HsaIRGARKCDDrSvI217PbI3elFEXxme3tob3WkErhr2ti6OvqLTZI1Mu167YFYtVPbGyWVLk0W90ROz4syrq9dwVZzZXbYD0CDQQQdKb4BIDw3eW6lP6jtZC4/rabkCdmZPdYRt7w3fk7c44pryeNdsKltaKELlplg55hp643RzrgBNBDroQOl1XukNEOmhwXsq7Zv6pL6TdcvagRhsml6dAsU07lDcvnQPA9nye2JjmF4F2BMCHXSg9G7W9Dqv9AaIPZX2TX2m5L2uqxfHzfem6c7qAoSzY3n/ZB86PCve+Nbya1ohe+mcstDKirh67VD0XbohbqgEy+X9HjwMMJpABx0qvZs1vc7r1HeeMu5IXWpL+6R9p/J9rv1n9MbKe6v30V0V557W12YBwx6ohcRlRUArj5dWyKaVsGVz8r3HhiLmLm68reKWC0+JS9ZG03105y7qtcoVYBTvcoUO5+X8AExEoIMMpNd5pTdApIcG11e/pmCXFkCke+amZJoVgGwJdAAAmXMPHQBA5gQ6AIDMCXQAAJkT6AAAMifQAQBkTqADAMicQAcAkDmBDgAgcwIdAEDmBDoAgMwJdAAAmRPoAAAyJ9ABAGROoAMAyJxABwCQOYEOACBzAh0AQOYEOgCAzAl0AACZE+gAADIn0AEAZE6gAwDInEAHAJA5gQ4AIHMCHQBA5gQ6AIDMCXQAAJkT6AAAMifQAQBkTqADAMicQAcAkDmBDgAgcwIdAEDmBDoAgMwJdAAAmRPoAAAyJ9ABAGROoAMAyJxABwCQOYEOACBzAh0AQOYEOgCAzAl0AACZE+gAADIn0AEAZE6gAwDInEAHAJA5gQ4AIHMCHQBA5gQ6AIDMCXQAAJkT6AAAMifQAQBkTqADAMicQAcAkDmBDgAgcwIdAEDmBDoAgMwJdAAAmRPoAAAyJ9ABAGROoAMAyJxABwCQOYEOACBzAh0AQOYEOgCAzAl0AACZE+gAADIn0AEAZE6gAwDInEAHAJA5gQ4AIHMCHQBA5gQ6AIDMCXQAAJkT6AAAMifQAQBkTqADAMicQAcAkDmBDgAgcwIdAEDmBDoAgMwJdAAAmRPoAAAyJ9ABAGROoAMAyJxABwCQOYEOACBzAh0AQOYEOgCAzAl0AACZE+gAADIn0AEAZE6gAwDInEAHAJA5gQ4AIHMCHQBA5gQ6AIDMCXQAAJkT6AAAMifQAQBkTqADAMicQAcAkDmBDgAgcwIdAEDmBDoAgMwJdAAAmRPoAAAyJ9ABAGROoAMAyJxABwCQOYEOACBzAh0AQOYEOgCAzAl0AACZE+gAADIn0AEAZE6gAwDInEAHAJA5gQ4AIHMCHQBA5gQ6AIDMCXQAAJkT6AAAMifQAQBkTqADAMicQAcAkDmBDgAgcwIdAEDmBDoAgMwJdAAAmRPoAAAyJ9ABAGROoAMAyJxABwCQOYEOACBzAh0AQOYEOgCAzAl0AACZE+gAADIn0AEAZE6gAwDInEAHAJC1iP8PiVjnGwjrbLwAAAAASUVORK5CYII=)"
      ],
      "metadata": {
        "id": "fkNT9OjrHv3X"
      }
    },
    {
      "cell_type": "markdown",
      "source": [
        "================================================================================================================="
      ],
      "metadata": {
        "id": "A_h72OMHIEiW"
      }
    },
    {
      "cell_type": "markdown",
      "source": [
        "**11.selectbox()**\n",
        "\n",
        "Display a select widget\n",
        "\n",
        "<b> Function Signature </b>\n",
        "\n",
        "`st.selectbox(label, options, index=0, format_func=special_internal_function, key=None, help=None, on_change=None, args=None, kwargs=None, *, placeholder=\"Select...\", disabled=False, label_visibility=\"visible\")`"
      ],
      "metadata": {
        "id": "t-8c5NcQYRdg"
      }
    },
    {
      "cell_type": "code",
      "source": [
        "import streamlit as st\n",
        "\n",
        "st.selectbox(\"Course :\", [\"Data Science\", \"Data Analyst\", \"ML\"]) #first argument is the title , second argument which is given as a list is the options"
      ],
      "metadata": {
        "id": "GmITPxscYZEd"
      },
      "execution_count": null,
      "outputs": []
    },
    {
      "cell_type": "markdown",
      "source": [
        "![Screenshot (33).png](data:image/png;base64,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)"
      ],
      "metadata": {
        "id": "MZlyiU-bIYhw"
      }
    },
    {
      "cell_type": "markdown",
      "source": [
        "=================================================================================================================="
      ],
      "metadata": {
        "id": "u0xD7h5UJLcI"
      }
    },
    {
      "cell_type": "markdown",
      "source": [
        "**12.multiselectbox()**\n",
        "\n",
        "Display a multiselect widget.\n",
        "The multiselect widget starts as empty.\n",
        "\n",
        "<b> Function Signature </b>\n",
        "\n",
        "`st.multiselect(label, options, default=None, format_func=special_internal_function, key=None, help=None, on_change=None, args=None, kwargs=None, *, max_selections=None, placeholder=\"Choose an option\", disabled=False, label_visibility=\"visible\")`"
      ],
      "metadata": {
        "id": "ISBwQ670ZMZF"
      }
    },
    {
      "cell_type": "code",
      "source": [
        "import streamlit as st\n",
        "\n",
        "st.multiselect(\"Hobbies: \", ['Dancing', 'Reading', 'Sports']) #first argument is the title , second argument which is given as a list is the options"
      ],
      "metadata": {
        "id": "S6K1pZafZfeb"
      },
      "execution_count": null,
      "outputs": []
    },
    {
      "cell_type": "markdown",
      "source": [
        "![Screenshot (34).png](data:image/png;base64,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)"
      ],
      "metadata": {
        "id": "dGzVaDApJlZB"
      }
    },
    {
      "cell_type": "markdown",
      "source": [
        "=================================================================================================================="
      ],
      "metadata": {
        "id": "m3BR3GUSJ0m6"
      }
    },
    {
      "cell_type": "markdown",
      "source": [
        "**13.button()**\n",
        "\n",
        "Display a button widget.\n",
        "\n",
        "**Function Signature**\n",
        "\n",
        "`st.button(label, key=None, help=None, on_click=None, args=None, kwargs=None, *, type=\"secondary\", disabled=False, use_container_width=False)`"
      ],
      "metadata": {
        "id": "LeAFCyUoZ67x"
      }
    },
    {
      "cell_type": "code",
      "source": [
        "import streamlit as st\n",
        "\n",
        "click = st.button(\"Click\")\n",
        "if click:\n",
        "  st.write(\"clicked\")"
      ],
      "metadata": {
        "id": "B0pNp7u9aE8G"
      },
      "execution_count": null,
      "outputs": []
    },
    {
      "cell_type": "markdown",
      "source": [
        "![Screenshot (35).png](data:image/png;base64,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)"
      ],
      "metadata": {
        "id": "MBW4OIJrKRBZ"
      }
    },
    {
      "cell_type": "markdown",
      "source": [
        "================================================================================================================="
      ],
      "metadata": {
        "id": "VDrHAcVZKemU"
      }
    },
    {
      "cell_type": "markdown",
      "source": [
        "**14.slider()**\n",
        "\n",
        "Display a slider widget.\n",
        "\n",
        "This supports int, float, date, time, and datetime types.\n",
        "\n",
        "This also allows you to render a ***range slider*** by passing a two-element tuple or list as the value.\n",
        "\n",
        "The difference between st.slider and st.select_slider is that ***slider only accepts numerical or date/time data and takes a range as input, while select_slider accepts any datatype and takes an iterable set of options.***\n",
        "\n",
        "**Function Signature**\n",
        "\n",
        "`st.slider(label, min_value=None, max_value=None, value=None, step=None, format=None, key=None, help=None, on_change=None, args=None, kwargs=None, *, disabled=False, label_visibility=\"visible\")`"
      ],
      "metadata": {
        "id": "cTxLsL4qcM1k"
      }
    },
    {
      "cell_type": "code",
      "source": [
        "import streamlit as st\n",
        "\n",
        "st.slider(\"Select the level\", 1, 5) # first argument is title of the slider,second is starting of the slider,third is ending of the slider"
      ],
      "metadata": {
        "id": "pUb_yJADccIW"
      },
      "execution_count": null,
      "outputs": []
    },
    {
      "cell_type": "markdown",
      "source": [
        "![Screenshot (36).png](data:image/png;base64,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)"
      ],
      "metadata": {
        "id": "NmP6gE05K00v"
      }
    },
    {
      "cell_type": "markdown",
      "source": [
        "================================================================================================================="
      ],
      "metadata": {
        "id": "58PcvcPYLBw_"
      }
    },
    {
      "cell_type": "markdown",
      "source": [
        "**15.text_input()**\n",
        "\n",
        "Display a single-line text input widget.\n",
        "\n",
        "**Function Signature**\n",
        "\n",
        "`st.text_input(label, value=\"\", max_chars=None, key=None, type=\"default\", help=None, autocomplete=None, on_change=None, args=None, kwargs=None, *, placeholder=None, disabled=False, label_visibility=\"visible\")`"
      ],
      "metadata": {
        "id": "l9eag3pUc-sT"
      }
    },
    {
      "cell_type": "code",
      "source": [
        "import streamlit as st\n",
        "\n",
        "st.text_input(\"Enter Your name\", \"Type Here ...\") # first argument is the title , second is the default text in the input box"
      ],
      "metadata": {
        "id": "vPkhcjVNdC3I"
      },
      "execution_count": null,
      "outputs": []
    },
    {
      "cell_type": "markdown",
      "source": [
        "![Screenshot (37).png](data:image/png;base64,iVBORw0KGgoAAAANSUhEUgAABBsAAAEsCAYAAACCBbt2AAAAAXNSR0IArs4c6QAAAARnQU1BAACxjwv8YQUAAAAJcEhZcwAADsMAAA7DAcdvqGQAAAAhdEVYdENyZWF0aW9uIFRpbWUAMjAyMzowOTowMiAyMDo0NjoxNq0BLrcAACNESURBVHhe7d0JnB1VnS/wfy8JiUBCgCSAJAYwQIA8ECIzyKIwIKvI6ozbKIuDgODMQ/TxhLA6fJRxeSiMCwofZXAEBETWAUEFBgcBkbBJgCCLkLAGhJCkl1dVXbf73u6+3VlOktvN9zufsm6dU3Xq3urOcM+vT51q+tnEjToD3ib+4/WXY83m5nhHtoyIpmjJypqbmroqV7TO7J/ayjoXAADAKtRcruFtYVRzU7RFZ3Rk/f48ZevI/rczDwFWtOwcUj0AAODtwsgG3lYeXvxW3LvwzRjT1ByjsqW1qalI3Iw3AAAASEfYwNvO7EVvxey2hbG4s7MIGfLbKIQNAAAA6QgbAAAAgKTM2QAAAAAkJWwAAAAAkhI2AAAAAEkt8ZwN+aMCF3R2FEs+sV57dC1dU+wBAADA8mnKepjN2f+2ZsvIpqbiCXKjs6VZt3PIGTRs6Mh+2K+2t8drHR35Tx4AAABWnqzHOqa5Oca1tGRdUp3SoWLA2yhe7+iIZ9oWx2udjRo0eJAGAAAw1OnXDCjri+Z90rxv+teO9rKQRlc3bJjf3h4vtS+OjnK74XTm/yClWgAAwFCX9WuK/g0DyWOGF9vb4jWBw5DQb9jwQvYDfKUz+wE2NXBnvpHfGwAAwNLQv1ky2XV6uaM9Xs76rDS2PmFDnhK9kd82AQAAAA0ov63CCIfGVhM25E+aeElCBAAAQIPL+655H5bG1P00is7Ozng68RwNG8zYNqZ/9COxzqZTY53NNi3KXvrTo/Fitsy65NJ47t4/FGUAAAAsv9U+/9nouG9WLLrtzmjKnyjYAFq3366Yk6Lt9/eWJem0ZMuGLSNX+l0oe9z4i7hpzw+XW41v6pGfjs7s9+GxH/24LFnxukc2zO9oTxY0NI8YER849ctxyH/+OF7/y3Px3//2rbjgb3cplju/cW68Me+F+PufXxLvP+WkYl8AAACW3+JLr4zm6VvEqE99NGLkqu9rNY1fN1q23zZa/ma7aFpn7bI0nfxGitfz+QZXsnFbTy9fNb4xm02NqUd8Kjb9zGGx5rs3KUtXvO6RDU+3LSp+UMurqaUlPnHDL+LNF16KG/7lxHhj7ryyptYa602Mvb51Toxee1xcvPcB0dnufhsAAIAl1brbLl0jBm69rdjOO/ZNa64RHU89EyM/tFfEOuNi0UU/jWhbdbfKjzj0w9Hx2JzszTVFy8ZTYtHlvyhr0slHN0xqHdm1kdAGe+4eW5/8pVhzam0H/dL1No6PPP9E97raa48+Fn88/V/juV/9uixZ9d53wfnx/K2/iabW1hi/w/bxu89+vqxZsYqRDQuzX9BUXf2dvnRCvPXKq/Hzj32qbtCQ++vzc+Pyf/jHWPDyK/G+L/xzWbo89o8DH3wmPnVWubmCbP7je+OLt57WtXHWjfHFBy+Izbu2VqpRh58dm//o/HI5McaV5YU9Tqyqy5ezY/2Ny7pcTX2vY7vtGu+qWwcAAKxSWcexdbttiiV/XRi1Wow8eP9onfGeWHjlNRGL26L1Azt11a0CTRPGR/OG74y2+2YVS9Okd0bTuitmdEPep01tu6+eGXcccXQRKlQv1XrX3fnZ42Pbfy37iw1grS02j3Xfu23M+dnlMeeSS2PCjjvEmKnvLmtXrCJseDPRsJP137NNbP2PH49rj+0bHuxy8pdi729/o9zqcf3xJ8R2Rx4WE4fQMJSVYbdbn4ljfrx/udXLHifGlJ1ejrmHHxOPZMuTt68dE7/5yRhVVo+alP0Dfvyyoq5rOSmeqwRuG38y3v3RtWP+Wf0fm+sKMg6N0eU2AADQWFqnb1GMYOh45i/RstW0oqzz6Wdj4XcvjNb3vTdaNpoci6+9MVqzjmas/o6ifmVqGrdWjNhzt2i7/c5o6uws5o9ou+N/YsQHd8t6wGPLvdJJ1aetNnq9icVIhaUx/6FHYvV3TS63VqGmplhjyuTY+rQvx0PfOi8629qjY/Hi+NP5348tv3B81z4rWPfIhhS2OeyT8dBlV8SbL7xYlvT409XXxgM/vbTc6pHP3/Dg5VfE1p/8WFnCYLrChLvjlXL7rV8/FG1j16sJB9qem1O+qjXqA1tE6+P/1R0+vPWj/4oFY7eIcWVAlwcNU6Y/FE+edWd4LgkAADSmlvduG2333FcsxQSMpc7XX49FV10XI/b+YHS8+HJ0/Gl2tGyxWVm74jRP3ThG7L93jDziEzHqpP8dqx32seh87fVov/f+co/IXv8xOt94M+tzfLxrnyM+GSM+tFc0v7t2tMCyWBEjG4aaDfbYLd77za/G3113RRw858HY9aqfxYLnnosn/uNn5R5ZN/LHl8T4v92+uP2jetnv7q5bcVIqwob2SPODWWfqu+PZ399TbtVqX7Q4Xnvm2XKr1rP/8/vi2OTy2xxefKZnqdz+UHHgBXFMVX33SIJex9UdYVDaIL+1orJ/73MM8h7yEQzddcUtGV23g8yYHrHGPudn5ffGgQdGjPvy+bH5l3ctjinChU0+2H1rRFeA0BM+jF6/XlI4JcZNHxsL7rq13M7dGq89PjZW/8CUYuutH50Uj/zLT+KtYgsAAGg0TRusl3UCVouOx56I9tmPZx2AUdG0/sSyNqLjiSeznbLO3qR3RtuDj0TLJsvfmR/MyAP3i843F0TbTb+Ot77+nXjrG+fH4l9cl3UEq0YctLUVZXndW984LxbdlPVLFi0qjl1eqfq0Q9nfnPfNWPTKq3H/6WfH1dO3j19us0Pc9fkvRkd2jSva3ngzrt76b/vc/nHNjJ3LPdIpwoa2RI+hWHvqJvHsXb8vt2pttv++sdU/HFpu1Xr2rruLx2MmlXfyPzs+Zn9mw/jauvlyTMyecGRPcJAHDT/YNp7rrr8gnuuqid12jLi7KMuW7z6YdfqPjd3Kuj4m7hWbx2ld+37mhvjr9CN75o0Y7D1k9TMm3BBXl+e6+spnssKr48otN4y7Z0X89bpjsvJt48oru3bv9sRP4rGzHorVT+6ad2HK+v8Vj3ylOkCIaN3pi93zMrxrj7IQAAAY8vI5GSojBvInPuYjBvKyavmIh+b114uOZ56NpvUnlKUrTj5JZcv0adH51zeKAGFQCxdGvPFGNG+xWSy+9bdl4bJL1acdymb96zkx+cAPxYIXXojFr/+1LF11irCh+A1NoH3houhYhqdKdLS1Fc/8TGm3HbfMOuunVXXUs078lQ/GGtvtX0zouNvxe0XU1Gev//Hq4tUtu+4ZtxSvMiffGXNjfIw9sNzube4NcUt5XFx5ZDwyK2L1yV1hwmDvoTBxUmxQvnzk5NPikfJ1b6985ZieQCGf4PG4iGcqczLcNaNmosdi30rdWXfGiI8KHAAAYFhYbbVo2WLzaPvDH8uCrKP9h/ujZctpRV1F++/ujva77sk69G/G4utuLktXnLbf/yHabr09Rn76Y9G09uDTzDetu06M/NTHimPa776vLGV5PHbRxfHgv/2/2O0Xl8aYAf6Yv+9dv1l5t1HkjwpJYd4DD8bErbYst5bcxP81Peben/XSk9k/xk7I/l09VYYAFfc8HX8tOvd16itqbq84MnoGJC2Nwd5D5uQ942vfjZhRnKfrdonBTYn199koFlxXdavDTefE3Mc3ijH9BQpP/CSeuX1+jN6+6xaMehY//WT5CgAAaFSt20yPptVGxugvHBejT/1S13LC54qylq23Kveqlc/bsDK050+duPnXsdrhn4imASaBzOtWO/zjxb75MSm0dv0Z/W0vn5/hj2ecHbte9Z+x+uRJZWmta7d//8q7jaI50dCGubMejAnTlyFsmL5VPH//A+VWClfH/Hk9IwxqzH06/jJQfXF7xaR4pLy1Ib+9Ym5ZtXQGew+lPHDIz/OZe2P9Hyxp4LD0uiaMfDLeejFixKSu+Rm67BpjNpkfix4vNwEAgIbV8t73xMJLLo8Fp3+1ZsnLWrffttxr1Wm//8FizojmyRuWJX3lc0m0Pzan2DeVllTD9YeBP192Zcz9ze2xbtXEoatCETaMbErzg7n/4p8W8zKMXGONsqTHGy+8EO393Luz2pgxscVHDopZl/TMkJnCLXfkcy2cVtV53z8OPGuviHuuLm5V6Fufvc7nUthuUqxRHQactcMyjmwY/D1s/uMbe+qufCbeKF/2p2eCyCfjlVnzY/Q+VY+r3OPEmLjJnHjtpnxjSqx/eNUoho0/GRvulF3/X3eNXHjlp3dG7HRUz+SSh38wRs9/KF6pPBoTAABoSM1TJme96pboyCeF7KUoy+qKfVa1tdeKjhdfKjf66nzp5WjK9kmpVdhQI3/s5ev9/J7k8lsmVtptFKs3pRlz8uqTf44HfnZ57HPeN8uSHvdd+JP43be+U2712P8H5xUhxfw/P1WWJFLcovBCTP1B5XaI82P9e46J8yvzK/SpPzLG5Lc8nHxezI69Yv/KbRQ7xjKObMgM8h4eyT5y9fnjuz2TQd5y7g0RVU+jqJY/MeLJWVvElHICyM0/unbMP+uc7qdRxPRDuyeH3PzkLeKNs07qftRlMbnkT1+OsZXJJfPHXHr6BAAANLxiYsi7/1Bu9dV+zx+jZbttyq1VI38mRPP48dH5wotdBZmmDTeIpknvLLciOrK6fJ+UUvVpq735zLMxZvNNy60ls9ZWWf/rqafLrVWjqbk5xk7bLF6rhA1NTTHpw/vF2PKz5LdMrIzbKJp+NnGjzkw81bY4OhOEQfkH+/j1V8WCl16JG/75C/HGvBfKmlqrT5wQe3/rnBi11lrxH/semHyCSAAAgOFk1BeOi7fO+0HEgjp/KnzH6Bj12cOKR0uuKvnkkCM/8ZFYeO73omm9CTFi112K+SRynQsXFU+e6Hx+Xoz6/Gdj4UWXROf814q65dHUGTG5dUTWp047umGDPXePrU/5P7Hmu2sfHZp3zvPRAJV1tfkPPRL3f+Vr8dyvfl2WrHz5qIb3X3ZxXPveXWLCjjvE1qf93xix5prxu6M/Hy9XTSy6ohVhQ/7ilY62mJ+ow988YkTs9KUTYptPfyJ+f9734/k/3h/P3XtftGS/ZBO23CLWf8/WMePoz8R9F10ct3/169GxeHF5JAAAAENVyyYbReseH4iOl16O5rFjY/Gtt0XH4/n8cVk/cerG0fr+naJz/vxoXmftWHzjLdEx589F3fIY29wc45pby62VoxI2NKL1dt0ltp55Urz57F9i9ckbxkPfOi+evuqalf4H/u6woTP7v6fbFkfK028wY9uY/tGPxDqbTo11NusasvHSnx6NF7Nl1iWXxnP31h8CBAAAwBAzojVGHrBvtM96KNof6f8pGC3TNouWLTePRVddG9HWVpYum/zmiQ1bRyR76MGS2uPGX8RNe3643Gosre94R2x/7jnx9C+vj6evzq5xZ9HlX+m6w4bcgs6OeL5tcfLhJwAAAJBSPh3Aeq0jYvQKmK+B5VfzU8l/SOOaW8otAAAAaEzrtLQKGhpYn5/MWtkPbA0/MAAAABpU3mcd4w/lDa3fVGHdltZYO//BraJ7O5ZII783AACApaF/s2Sy65T3VfM+K42t7hCGPCUa3zoiWhr1d76YV8I/SAAAYKjL+jXmzRtUPo4h76Ma0TA0DHi/xOpNzTFpxMhYp7k1RpRljcU/SAAAYKjTrxlI3hddp7klJrWOLPqoDA01T6MYTHtnZ7yZLYuiIxbn62xZuU/qBAAAYLjKo4QRTU0xMl+yrXdk6xajPoakpQobAAAAAAZjDAoAAACQVNNPJ0wxsgEAAABIpumi8ZOFDQAAAEAyTZ1//+HO7ketdJbr4pGSvSbhGGxOjnr1/bZb1X6vzT6Wur66IFvXnL8fdYq79anvr93K+ar0Oa6XJa6vbr/qPPWO77VbH33qqwuydfLr1ctA16uf4m6DtluuaxqqWg/0eQY7b019dUHZ7mDXa7D2B1JzvfppaKB2l+i81TtWret9nop61dXN9CfF9Rqs/erP0fuAesdV1Kvvbqa6var1sl6vinr1Nder93nLVdVmH4PWZxWDtT+QevW9mulRVhTnLTf7U6+8om59VfvdJ6g6Ua/NPgatzypWxPWq6FNf3X7v81apU9ytXnm/7VY11Guzj6Wu71XQp76XeuUVfeqrG8zWya9Xqd71qhio3cHOW1NfXZCt8/Mm/e9N9QGVdgdooE5xTTP96S6vs2O94yoGaremueqCbJ3ievVbX1Ys6/WqqFff3Wx1+1Xrep+nYpDqnvp+2l0h16tU7/NUDqh3XMWg9f21m62Lz1Vu9qdeeUWf+up2y3V/yt0GPO+A9VnFCv3vTX/tluerOk0f9cor6tZXtd/nvFXqHV9n925Lcr0GPL5c19NdX91Qr/b702u3PuqVVw5s5Os1WH2pqfMf8rChH/UOrrS+wj58ttTUVxdk6+LilJv9qd69P33Kqw8o2x+ogTrFNc30p7u8zo71jqsYqN2a5qoLsnXNL1M/qnfvT5/66oJKuwM0UKe4ppn+dNdX71h1QL3jKpa4vrrdbJ38evWyrNerYtD66var1sXnKjf7U6+8oru+bK+m3XLdn+rd+zNofVYx2P8zHMig9f21W56v6jR91CuvqFtf1f5ABjrvgO8rq1je/3gMpN71qhxY7/heu/VRr7xyYL3PU1Hv+Dq7d0txvQarr9HrgHrHVQzUbr/nLSuW9XpV1Kvvbq663ar2e232sdT11QXZuua8/ahT3K1PfVW7fX4PqvQ5rpclru/Vfq/NPpa6vrogW9d8rn7UKe5Wr36VXK+q9UCfp5+3061PfXVB2e6KuF4VNder93nLzf5U796f7vLqHXu135/q3fpTt76sWJLrNVj7A6l3vSoH1ju+1259dJdX71i1rvd5KupVVzfTn5rr1fu85WrA47NlsPb7tNur/YHUq+/VTG1Btl7W61VRr35lXK/B2h9IvfpezfQoK/o9b5U+x/VSt75sb4Vdr2wp6qt37NV+HU1jxk3M9wQAAABIwtMoAAAAgKSEDQAAAEBSwgYAAAAgKWEDAAAAkJSwAQAAAEhK2AAAAAAkJWwAAAAAkhI2AAAAAEkJGwAAAICkhA0AAABAUsIGAAAAIClhAwAAAJCUsAEAAABIStgAAAAAJCVsAAAAAJISNgAAAABJCRsAAACApIQNAAAAQFLCBgAAACApYQMAAACQlLABAAAASErYAAAAACQlbAAAAACSEjYAAAAASQkbAAAAgKSEDQAAAEBSwgYAAAAgKWEDAAAAkJSwAQAAAEhK2AAAAAAkJWwAAAAAkhI2AAAAAEkJGwAAAICkhA0AAABAUsIGAAAAIClhAwAAAJCUsAEAAABIStgAAAAAJCVsAAAAAJISNgAAAABJCRsAAACApIQNAAAAQFLCBgAAACApYQMAAACQlLABAAAASErYAAAAACQlbAAAAACSEjYAAAAASQkbAAAAgKSEDQAAAEBSwgYAAAAgKWEDAAAAkJSwAQAAAEhK2AAAAAAkJWwAAAAAkhI2AAAAAEkJGwAAAICkhA0AAABAUsIGAAAAIClhAwAAAJCUsAEAAABIStgAAAAAJCVsAAAAAJISNgAAAABJCRsAAACApIQNAAAAQFLCBgAAACApYQMAAACQlLABAAAASErYAAAAACQlbAAAAACSEjYAAAAASQkbAAAAgKSEDQAAAEBSwgYAAAAgKWEDAAAAkJSwAQAAAEhK2AAAAAAkJWwAAAAAkhI2AAAAAEkJGwAAAICkhA0AAABAUsIGAAAAIClhAwAAAJCUsAEAAABIStgAAAAAJCVsAAAAAJISNgAAAABJCRsAAACApIQNAAAAQFLCBgAAACApYQMAAACQlLABAAAASErYAAAAACQlbAAAAACSEjYAAAAASQkbAAAAgKSEDQAAAEBSwgYAAAAgKWEDAAAAkJSwAQAAAEhK2AAN7owbn44X59YuD114QFk7sIMvvHeJ9x1I8R5mfT8OLrdzedsvzr0+zii3AQAAKoQNMATMu+64WHfipO5li8OuKmtWjpl7fj9mTdg7PjezLIgD4kMzxses8/aO7iIAAICSsAGGspnXx4s3nlIz+qEykiEv+94+42PCPt8uym+tpAL5MeW+NaMVerXVvX/hzPjOdS/E9B1P6dqceVTsF9fHd8phDV2jHPpp89Dvx0M1ox8OiItm9Xovdc9ZGZlxSnFMpf2afao/y9x746JDy/I4JW7Nz1tdn52n6/1UbVerd10AAIClJmyAoW6bf4qd7yhHPZz3QEzY56iicz9zz0lx/n09oyJ2LQqzDvWxEeeXIySOuntGnFl9m0VVW8X+VX5+2JUxa5sDsw79AdmyVcy67J/i51l5Hgh8b8bdcVTZ5vl/2Tu+tzSd9QHOmZuwz4ERZ5TvNw88Di3bzoODHf+7KC/Oe9/42O/I6gBhqzimUv+562Nedp4XZ0acUuz//fKzlLsOdl0AAIClImyAIaAyOqHfv7rP6xlhEGf8d8yKiTG5+y/8tc7YcauaWx9+ft3dETP26Wmvuq0+8tENEft959tVoxpOic/tM747eMh13XIxIz5U5z30MeA5M/ddGZ++rOtl/n7nTZgUW+cb2Tm32PPMojw3844HIjaYVHVtXohrLijrL7su7poXVe9zVvx53vh417RiY/DrAgAALBVhAwwBNXM2TO/p2C+dA2LyBhHTjy1Di3z5zt4xoaxdEsXohmxdHS7knfo/P1y+7NbTkV+xum7LKD7LsVuVZUtr+a8LAABQS9gAbzOzzitDi+UOLyr6Cxb6CyASK+ZfmNl9i0V+C8nySH9dAADg7UvYAMPchA2ml6+uik9f9kBMP7Z2wsaDl/R2h36VE0dW5lHInHHjP8X0eXfHL/NbHy57OubGVrFzeX/CwRfOjP0SDRk4eJ8ZMaH7FouueSSWzYq4LgAA8PYmbIAhoGbOhnzp/SSFOmZeUE6MmB1TPKXijL1j3fMijulua2acuc+StVXPzw/btphQ8Xtlm8dscH0c1T0qoAwjylsUzsy68/mklSl0TVjZ9dnyzxGXZZ+1rFtqK+C6AADA21nTmHETO8vXAAAAAMvNyAYAAAAgKWEDAAAAkJSwAQAAAEhK2AAAAAAkJWwAAAAAkhI2AAAAAEkJGwAAAICkhA0AAABAUsIGAAAAIClhAwAAAJBU05hxEzvL10CDGzFiZIweNTpGjhwZrS2tZSkAAAwdbe1tsWjRoljw1oJYvHhRWcpwI2yAIWLMmmNj8uQpsf+BB8WOu7w/Ntpok2htFTgAADB0tLW1xZw5j8cdv/1NXH3lFfHUU0/Ga6/PL2sZToQNMASMW2vt2P+Ag+JLXz5VwAAAwLCQBw9f/crpcfVVV8Qrr75cljJctKw2eo3TytdAA8pHNBxw0CHx5VPPjOZm06wAADA85N9td/nAbjFv7vMx5/HHY+GihWUNw4GRDdDA8jkaNtt0Wlx61TVGNAAAMCzlIxw+csB+8adHHzaHwzDiz6TQwPLJIPM5GgQNAAAMV/l33fw7b/7dl+FD2AANLH/qRD4ZJAAADGf5d978uy/Dh7ABGlj+eMv8qRMAADCcFU9a82j3YUXYAA3OLRQAAAx3vvMOP8IGAAAAIClhAwAAAJCUsAEAAABIStgAAAAAJCVsAAAAAJISNgAAAABJCRtgmJh97u6x3lrNPcsJV5Q1mYe/HoestXv8+8PldreH498/1ByHnNunInNFnJS1c9I15Wbm2hN62u1zvpqlcq6+bXSpf95Ku32P6VK8h6pz9f/eAQCAVUnYAMNA3kHfeea0+OGrHfF8sTwYpz56yArtiE89/ubyXNly8bFZybFV5785jp7Wtd/SeThuvinisCN2iwtvrQpLSnnQcMSj58Rt3ee5PKbO3LJuMAEAAKwawgYY8vIO+i2x0xnHxL5lScS0OPqXHXH58cvU4191Hr4ufnXbtNhp1+x9PzonZpfFXa6I238YcdhRJ8TUsiTioDj71Y44e79yEwAAaAjCBhjypsXkTSNuv+m6Xp3zoWf2TdfH7UfsGvvut2scdtv1cXPNwIzsc+4c/Y54AAAAGouwAYaBfY88J3a67cTYeYC5DhpfOULjXflojDxYuCV+dVN12jAtjj7q2IgfHlI1JwQAANCIhA0wHEw7IS7P52nI//L/icabOLHynnqWLeP028rKiuIWit3i7/boCht232O3vqM19vt2MU/DYXFLnL5DV1vmawAAgMYjbIBho2uehnzixB8eEXH7zC0bJnA47OLKhI6VpSsYqVbcQrHz3rF7Oc3E1D32jp363EqR65qnodJGHmQIHAAAoLEIG2AY2vfrHXHbGVUjA6ZtFFPjlnjq8aK6j6kbr+qJJLtuoYjyVpBi9MMOJ8bt2XuuvZWiWle4kgcr5nEAAIDGImyA4ey2J+PR4kXX5Iqzn+jVcS9vXZi8Sbld7eH8aRB16lIr3kffERDFCI0lmfiyz5MrAACAVUnYAEPdw1+PQ9bqPUfDFfGjmdWPw+yaXPH2mcdVTaz4cPz7F0+M2484Jo6eFjH73N1jvbWOi2vL2t63NaxIXec6Jw7v9QjLfXc9NqJyK8U1x/WdoyH77Bf2eRwmAACwqgkbYMjbJ85+9fKYOnPLrtsPiuWQmH3Gg3H58VVJQT654sXTuidWLCZp3PTyeP7rBxXVU4+/OW474+E4omxj55kRp35tZXTiy2Bkj336nit/BGY+GeQFV8TsTY6J5+88J2ZXTza5w4kx9eKOOLtXSAEAAKxaTWPGTewsXwMNZr0J68dv/+fecgsAAIavXf5m23h+3nPlFkOdkQ0AAABAUsIGAAAAIClhAwAAAJCUsAEAAABIStgAAAAAJCVsgAbX1tZWvgIAgOHJd97hR9gADaytvS3mzHm83AIAgOEp/86bf/dl+BA2QANbtGhR3PHb35RbAAAwPOXfefPvvgwfwgZoYAveWhBXX3mFYWUAAAxb+Xfd/Dtv/t2X4UPYAA1s8eJF8dRTT8ZXv3J6WQIAAMNL/l03/86bf/dl+GhZbfQap5WvgQa0cNHCeOrJJ2Pe3OfjfTvtEs3NMkIAAIa+fETD2WeeGldfdUXMf+3VspThomnMuImd5WuggY1Zc2xMnjwl9j/woNhxl/fHRhttEq2trWUtAAA0vjxgyCeDzOdoyG+dyEc0vPb6/LKW4UTYAEPIiBEjY/So0TFy5MhobRE0AAAw9ORPncgng8znaHDrxPAlbAAAAACScvM3AAAAkJSwAQAAAEhK2AAAAAAkJWwAAAAAkhI2AAAAAEkJGwAAAICkhA0AAABAUsIGAAAAIClhAwAAAJCUsAEAAABIStgAAAAAJCVsAAAAAJISNgAAAABJCRsAAACApIQNAAAAQFLCBgAAACApYQMAAACQlLABAAAASErYAAAAACQlbAAAAACSEjYAAAAASQkbAAAAgKSEDQAAAEBSwgYAAAAgKWEDAAAAkJSwAQAAAEhK2AAAAAAkJWwAAAAAkhI2AAAAAEkJGwAAAICkhA0AAABAUsIGAAAAIClhAwAAAJCUsAEAAABIStgAAAAAJCVsAAAAAJISNgAAAABJCRsAAACApIQNAAAAQFLCBgAAACApYQMAAACQlLABAAAASErYAAAAACQlbAAAAACSEjYAAAAASQkbAAAAgKSEDQAAAEBSwgYAAAAgKWEDAAAAkJSwAQAAAEhK2AAAAAAkJWwAAAAAkhI2AAAAAEkJGwAAAICkhA0AAABAUsIGAAAAIClhAwAAAJCUsAEAAABIStgAAAAAJCVsAAAAAJISNgAAAABJCRsAAACApIQNAAAAQFLCBgAAACApYQMAAACQlLABAAAASErYAAAAACQlbAAAAACSEjYAAAAASQkbAAAAgKSEDQAAAEBSwgYAAAAgKWEDAAAAkJSwAQAAAEhK2AAAAAAkJWwAAAAAkhI2AAAAAEkJGwAAAICkhA0AAABAUsIGAAAAIClhAwAAAJCUsAEAAABIStgAAAAAJCVsAAAAAJISNgAAAABJCRsAAACApIQNAAAAQFLCBgAAACApYQMAAACQlLABAAAASErYAAAAACQlbAAAAACSEjYAAAAACUX8f9PIH9o3sIUbAAAAAElFTkSuQmCC)"
      ],
      "metadata": {
        "id": "lds5S706LSAK"
      }
    },
    {
      "cell_type": "markdown",
      "source": [
        "=================================================================================================================="
      ],
      "metadata": {
        "id": "B1iyZfNRLgx2"
      }
    },
    {
      "cell_type": "markdown",
      "source": [
        "**16.select_slider()**\n",
        "\n",
        "Display a slider widget to select items from a list.\n",
        "\n",
        "This also allows you to render a range slider by passing a two-element tuple or list as the value.\n",
        "\n",
        "The difference between st.select_slider and st.slider is that select_slider accepts any datatype and takes an iterable set of options, while slider only accepts numerical or date/time data and takes a range as input.\n",
        "\n",
        "**Function Signature**\n",
        "\n",
        "`st.select_slider(label, options=(), value=None, format_func=special_internal_function, key=None, help=None, on_change=None, args=None, kwargs=None, *, disabled=False, label_visibility=\"visible\")`"
      ],
      "metadata": {
        "id": "NzocLKz-NVRf"
      }
    },
    {
      "cell_type": "code",
      "source": [
        "import streamlit as st\n",
        "\n",
        "color = st.select_slider(\n",
        "    'Select a color of the rainbow',\n",
        "    options=['red', 'orange', 'yellow', 'green', 'blue', 'indigo', 'violet'])\n",
        "st.write('My favorite color is', color)"
      ],
      "metadata": {
        "id": "fLBXpwTPNqxq"
      },
      "execution_count": null,
      "outputs": []
    },
    {
      "cell_type": "markdown",
      "source": [],
      "metadata": {
        "id": "95rPl86uN5Z3"
      }
    },
    {
      "cell_type": "markdown",
      "source": [
        "\n",
        "\n",
        "---\n",
        "\n"
      ],
      "metadata": {
        "id": "ngppf3F2A-i4"
      }
    },
    {
      "cell_type": "markdown",
      "source": [
        "**17.write()**\n",
        "\n",
        "write() has some unique properties:\n",
        "\n",
        "1.You can pass in multiple arguments, all of which will be written.\n",
        "\n",
        "2.Its behavior depends on the input types as follows.\n",
        "\n",
        "3.It returns None, so its \"slot\" in the App cannot be reused.\n",
        "\n",
        "***Function Signature***\n",
        "\n",
        "st.write(*args, unsafe_allow_html=False, **kwargs)\n",
        "\n",
        "*args :\n",
        "\n",
        "**write(string)** : Prints the formatted Markdown string, with\n",
        "support for LaTeX expression, emoji shortcodes, and colored text. See docs for st.markdown for more.\n",
        "\n",
        "**write(data_frame)**: Displays the DataFrame as a table.\n",
        "\n",
        "**write(error)** : Prints an exception specially.\n",
        "\n",
        "**write(func)** : Displays information about a function.\n",
        "\n",
        "**write(module)** : Displays information about the module.\n",
        "\n",
        "**write(class)** : Displays information about a class.\n",
        "\n",
        "**write(dict)** : Displays dict in an interactive widget.\n",
        "\n",
        "**write(mpl_fig)** : Displays a Matplotlib figure.\n",
        "\n",
        "**write(altair)** : Displays an Altair chart.\n",
        "\n",
        "**write(keras)** : Displays a Keras model.\n",
        "\n",
        "**write(graphviz)** : Displays a Graphviz graph.\n",
        "\n",
        "**write(plotly_fig)** : Displays a Plotly figure.\n",
        "\n",
        "**write(bokeh_fig)** : Displays a Bokeh figure.\n",
        "\n",
        "**write(sympy_expr)** : Prints SymPy expression using LaTeX.\n",
        "\n",
        "**write(htmlable)** : Prints _repr_html_() for the object if available.\n",
        "\n",
        "**write(obj)** : Prints str(obj) if otherwise unknown."
      ],
      "metadata": {
        "id": "Y17JvLu-fNaV"
      }
    },
    {
      "cell_type": "markdown",
      "source": [
        "\n",
        "\n",
        "---\n",
        "\n"
      ],
      "metadata": {
        "id": "xAkk1Ont--2v"
      }
    },
    {
      "cell_type": "markdown",
      "source": [
        "**st.write()** basic use case is to draw Markdown-formatted text, whenever the input is a string:"
      ],
      "metadata": {
        "id": "gp7_axXL-Z_s"
      }
    },
    {
      "cell_type": "code",
      "source": [
        "import streamlit as st\n",
        "\n",
        "st.write('Hello, *World!* :sunglasses:')"
      ],
      "metadata": {
        "id": "DLXH5S0Y96v3"
      },
      "execution_count": null,
      "outputs": []
    },
    {
      "cell_type": "markdown",
      "source": [
        "**st.write()** also accepts other data formats, such as numbers, data frames, styled data frames, and assorted objects:"
      ],
      "metadata": {
        "id": "X5dQoaoL-ogb"
      }
    },
    {
      "cell_type": "code",
      "source": [
        "import streamlit as st\n",
        "import pandas as pd\n",
        "\n",
        "st.write(1234)\n",
        "st.write(pd.DataFrame({\n",
        "    'first column': [1, 2, 3, 4],\n",
        "    'second column': [10, 20, 30, 40],\n",
        "}))"
      ],
      "metadata": {
        "id": "aXvWQuR8-BRg"
      },
      "execution_count": null,
      "outputs": []
    },
    {
      "cell_type": "markdown",
      "source": [
        "**st.write()** accepts chart objects too! For example:"
      ],
      "metadata": {
        "id": "77iuvffz-v1R"
      }
    },
    {
      "cell_type": "code",
      "source": [
        "import streamlit as st\n",
        "import pandas as pd\n",
        "import numpy as np\n",
        "import altair as alt\n",
        "\n",
        "df = pd.DataFrame(\n",
        "    np.random.randn(200, 3),\n",
        "    columns=['a', 'b', 'c'])\n",
        "\n",
        "c = alt.Chart(df).mark_circle().encode(\n",
        "    x='a', y='b', size='c', color='c', tooltip=['a', 'b', 'c'])\n",
        "\n",
        "st.write(c)"
      ],
      "metadata": {
        "id": "aqyUYxos-VVK"
      },
      "execution_count": null,
      "outputs": []
    },
    {
      "cell_type": "markdown",
      "source": [
        "=================================================================================================================="
      ],
      "metadata": {
        "id": "HPp0UFbiUpYF"
      }
    },
    {
      "cell_type": "markdown",
      "source": [
        "**18.st.dataframe()**\n",
        "\n",
        "Display a dataframe as an interactive table.\n",
        "\n",
        "This command works with dataframes from Pandas, PyArrow, Snowpark, and PySpark. It can also display several other types that can be converted to dataframes, e.g. numpy arrays, lists, sets and dictionaries.\n",
        "\n",
        "**Syntax**\n",
        "\n",
        "`st.dataframe(data=None, width=None, height=None, *, use_container_width=False, hide_index=None, column_order=None, column_config=None)`"
      ],
      "metadata": {
        "id": "0ObQJsyE9tuU"
      }
    },
    {
      "cell_type": "code",
      "source": [
        "import streamlit as st\n",
        "import pandas as pd\n",
        "import numpy as np\n",
        "\n",
        "df = pd.DataFrame(\n",
        "   np.random.randn(7, 5),\n",
        "   columns=('col %d' % i for i in range(20)))\n",
        "\n",
        "st.dataframe(df)  # Same as st.write(df)"
      ],
      "metadata": {
        "id": "gXQGd1zKU5M2"
      },
      "execution_count": null,
      "outputs": []
    },
    {
      "cell_type": "markdown",
      "source": [
        "=================================================================================================================="
      ],
      "metadata": {
        "id": "AwoWxpPzXX5J"
      }
    },
    {
      "cell_type": "markdown",
      "source": [
        "**19.st.table()**\n",
        "\n",
        "Display a static table.\n",
        "\n",
        "This differs from st.dataframe in that the table in this case is static: its entire contents are laid out directly on the page.\n",
        "\n",
        "**Syntax**\n",
        "\n",
        "`st.table(data=None)`"
      ],
      "metadata": {
        "id": "4LWAfqvIWnf9"
      }
    },
    {
      "cell_type": "code",
      "source": [
        "import streamlit as st\n",
        "import pandas as pd\n",
        "import numpy as np\n",
        "\n",
        "df = pd.DataFrame(\n",
        "   np.random.randn(10, 5),\n",
        "   columns=('col %d' % i for i in range(5)))\n",
        "\n",
        "st.table(df)"
      ],
      "metadata": {
        "id": "_R0E5tQBXNI7"
      },
      "execution_count": null,
      "outputs": []
    },
    {
      "cell_type": "markdown",
      "source": [
        "=================================================================================================================="
      ],
      "metadata": {
        "id": "2w-AtBkgXdxV"
      }
    },
    {
      "cell_type": "markdown",
      "source": [
        "**20.st.json()**\n",
        "\n",
        "Display object or string as a pretty-printed JSON string.\n",
        "\n",
        "**Syntax**\n",
        "\n",
        "`st.json(body, *, expanded=True)`"
      ],
      "metadata": {
        "id": "ldlVOFInXkT3"
      }
    },
    {
      "cell_type": "code",
      "source": [
        "import streamlit as st\n",
        "\n",
        "st.json({\n",
        "    'name': 'kookie',\n",
        "    'age': '27',\n",
        "    'songs': [\n",
        "        'My You',\n",
        "        'Still With You',\n",
        "        'Dreamers',\n",
        "        'Seven',\n",
        "    ],\n",
        "})"
      ],
      "metadata": {
        "id": "UbrP44QP1ldF"
      },
      "execution_count": null,
      "outputs": []
    },
    {
      "cell_type": "markdown",
      "source": [
        "=================================================================================================================="
      ],
      "metadata": {
        "id": "-3Nv0guy2sPM"
      }
    },
    {
      "cell_type": "markdown",
      "source": [
        "**21.st.image()**\n",
        "\n",
        "Display an image or list of images.\n",
        "\n",
        "**Syntax**\n",
        "\n",
        "`st.image(image, caption=None, width=None, use_column_width=None, clamp=False, channels=\"RGB\", output_format=\"auto\")`"
      ],
      "metadata": {
        "id": "UuW0qO2w3zCo"
      }
    },
    {
      "cell_type": "code",
      "source": [
        "import streamlit as st\n",
        "from PIL import Image\n",
        "\n",
        "image = Image.open('Guvi.jpg')\n",
        "\n",
        "st.image(image, caption='Hello Guvi')"
      ],
      "metadata": {
        "id": "I8h1DJeC4MdZ"
      },
      "execution_count": null,
      "outputs": []
    },
    {
      "cell_type": "markdown",
      "source": [
        "=================================================================================================================="
      ],
      "metadata": {
        "id": "E0CUV3u24dRX"
      }
    },
    {
      "cell_type": "markdown",
      "source": [
        "**22.st.audio()**\n",
        "\n",
        "Display an audio player.\n",
        "\n",
        "**Syntax**\n",
        "\n",
        "`st.audio(data, format=\"audio/wav\", start_time=0, *, sample_rate=None)`"
      ],
      "metadata": {
        "id": "ns9MleVf4geT"
      }
    },
    {
      "cell_type": "code",
      "source": [
        "import streamlit as st\n",
        "import numpy as np\n",
        "\n",
        "audio_file = open('myaudio.ogg', 'rb')\n",
        "audio_bytes = audio_file.read()\n",
        "\n",
        "st.audio(audio_bytes, format='audio/ogg')\n",
        "\n",
        "sample_rate = 44100  # 44100 samples per second\n",
        "seconds = 2  # Note duration of 2 seconds\n",
        "frequency_la = 440  # Our played note will be 440 Hz\n",
        "# Generate array with seconds*sample_rate steps, ranging between 0 and seconds\n",
        "t = np.linspace(0, seconds, seconds * sample_rate, False)\n",
        "# Generate a 440 Hz sine wave\n",
        "note_la = np.sin(frequency_la * t * 2 * np.pi)\n",
        "\n",
        "st.audio(note_la, sample_rate=sample_rate)"
      ],
      "metadata": {
        "id": "YrROEMlW43le"
      },
      "execution_count": null,
      "outputs": []
    },
    {
      "cell_type": "markdown",
      "source": [
        "================================================================================================================="
      ],
      "metadata": {
        "id": "n5raq_tz5IcY"
      }
    },
    {
      "cell_type": "markdown",
      "source": [
        "**23.st.video()**\n",
        "\n",
        "Display a video player\n",
        "\n",
        "**Synatx**\n",
        "\n",
        "`st.video(data, format=\"video/mp4\", start_time=0)`"
      ],
      "metadata": {
        "id": "lesoLliT5Lph"
      }
    },
    {
      "cell_type": "code",
      "source": [
        "import streamlit as st\n",
        "\n",
        "video_file = open('myvideo.mp4', 'rb')\n",
        "video_bytes = video_file.read()\n",
        "\n",
        "st.video(video_bytes)"
      ],
      "metadata": {
        "id": "x__L9Wiu5bYf"
      },
      "execution_count": null,
      "outputs": []
    },
    {
      "cell_type": "markdown",
      "source": [
        "================================================================================================================="
      ],
      "metadata": {
        "id": "5ZaVBW025fTi"
      }
    },
    {
      "cell_type": "markdown",
      "source": [
        "**24.CRUD**\n",
        "\n",
        "CRUD= ***create,read,update,delete***\n",
        "\n",
        "In below code\n",
        "\n",
        "I have created a simple database in MYSql and connected to streamlit\n",
        "\n",
        "created  a database consists of name\n",
        "\n",
        "reading the data consists in the database\n",
        "\n",
        "updating a particular data in the database\n",
        "\n",
        "deleting a partcular data in the database\n",
        "\n",
        "\n"
      ],
      "metadata": {
        "id": "kBvF49XH5iPP"
      }
    },
    {
      "cell_type": "code",
      "source": [
        "!pip install mysql.connector"
      ],
      "metadata": {
        "colab": {
          "base_uri": "https://localhost:8080/"
        },
        "id": "icasecXQwFxp",
        "outputId": "2b24d9fe-a487-4138-829d-b67743c7393b"
      },
      "execution_count": null,
      "outputs": [
        {
          "output_type": "stream",
          "name": "stdout",
          "text": [
            "Collecting mysql.connector\n",
            "  Downloading mysql-connector-2.2.9.tar.gz (11.9 MB)\n",
            "\u001b[?25l     \u001b[90m━━━━━━━━━━━━━━━━━━━━━━━━━━━━━━━━━━━━━━━━\u001b[0m \u001b[32m0.0/11.9 MB\u001b[0m \u001b[31m?\u001b[0m eta \u001b[36m-:--:--\u001b[0m\r\u001b[2K     \u001b[91m━━━\u001b[0m\u001b[90m╺\u001b[0m\u001b[90m━━━━━━━━━━━━━━━━━━━━━━━━━━━━━━━━━━━━\u001b[0m \u001b[32m0.9/11.9 MB\u001b[0m \u001b[31m27.6 MB/s\u001b[0m eta \u001b[36m0:00:01\u001b[0m\r\u001b[2K     \u001b[91m━━━━━━━━━━━━━━━━━━━\u001b[0m\u001b[90m╺\u001b[0m\u001b[90m━━━━━━━━━━━━━━━━━━━━\u001b[0m \u001b[32m5.7/11.9 MB\u001b[0m \u001b[31m82.6 MB/s\u001b[0m eta \u001b[36m0:00:01\u001b[0m\r\u001b[2K     \u001b[91m━━━━━━━━━━━━━━━━━━━━━━━━━━━━━━━━━━━━━━\u001b[0m\u001b[91m╸\u001b[0m \u001b[32m11.8/11.9 MB\u001b[0m \u001b[31m183.7 MB/s\u001b[0m eta \u001b[36m0:00:01\u001b[0m\r\u001b[2K     \u001b[90m━━━━━━━━━━━━━━━━━━━━━━━━━━━━━━━━━━━━━━━\u001b[0m \u001b[32m11.9/11.9 MB\u001b[0m \u001b[31m105.4 MB/s\u001b[0m eta \u001b[36m0:00:00\u001b[0m\n",
            "\u001b[?25h  Preparing metadata (setup.py) ... \u001b[?25l\u001b[?25hdone\n",
            "Building wheels for collected packages: mysql.connector\n",
            "  Building wheel for mysql.connector (setup.py) ... \u001b[?25l\u001b[?25hdone\n",
            "  Created wheel for mysql.connector: filename=mysql_connector-2.2.9-cp310-cp310-linux_x86_64.whl size=247952 sha256=92466e1de8784281d9ded4dd26652850803de4384c48463969dc25477f824741\n",
            "  Stored in directory: /root/.cache/pip/wheels/76/48/9b/da67ff1a18fe8e9d428f9b1a177716d4a7d363d2bbe83bf6cf\n",
            "Successfully built mysql.connector\n",
            "Installing collected packages: mysql.connector\n",
            "Successfully installed mysql.connector-2.2.9\n"
          ]
        }
      ]
    },
    {
      "cell_type": "code",
      "source": [
        "import streamlit as st\n",
        "import mysql.connector\n",
        "\n",
        "# sql connection\n",
        "\n",
        "mydb=mysql.connector.connect(\n",
        "    host=\"localhost\",\n",
        "    user=\"root\",\n",
        "    password=\"12345\",\n",
        "    auth_plugin=\"mysql_native_password\",\n",
        "    database=\"vimin\"\n",
        "    )\n",
        "\n",
        "mycursor=mydb.cursor()\n",
        "\n",
        "# streamlit page\n",
        "\n",
        "\n",
        "def main():\n",
        "  st.title(\"CRUD operations\")\n",
        "  option = st.sidebar.selectbox(\"select \",(\"create\", \"read\", \"update\", \"delete\"))\n",
        "\n",
        "  if option == \"create\":\n",
        "    st.subheader(\"create a record\")\n",
        "    name = st.text_input(\"enter your name\")\n",
        "    if st.button(\"create\"):\n",
        "      sql=\"insert into user(name) values(%s)\"  # adding into the existing table\n",
        "      value=(name,)\n",
        "      mycursor.execute(sql, value)\n",
        "      mydb.commit()\n",
        "      st.success(\"created \")\n",
        "\n",
        "  elif option == \"read\":\n",
        "    st.subheader(\"read a record\")\n",
        "    mucursor.execute(\"select * from user\")\n",
        "    result=mycursor.fetchall()\n",
        "    for i in result:\n",
        "      st.write(i)\n",
        "\n",
        "  elif option == \"update a record\":\n",
        "    st.subheader(\"update a record\")\n",
        "    id=st.number_input(\"enter id\")\n",
        "    name=st.text_input(\"enter new name\")\n",
        "    if st.button(\"update\"):\n",
        "      sql=\"update user set name=%s where id=%s\"\n",
        "      value=(name,id)\n",
        "      mycursor.execute(sql,val)\n",
        "      mydb.commit()\n",
        "      st.success(\"updated\")\n",
        "\n",
        "  elif option == \"delete\":\n",
        "    st.subheader(\"delete a record\")\n",
        "    id=st.number_input(\"enter id\",min_value=1)\n",
        "    if st.button(\"delete\"):\n",
        "      sql=\"delete from user where id=%s\"\n",
        "      value=(id,)\n",
        "      mycursor.execute(sql,value)\n",
        "      mydb.commit()\n",
        "      st.success(\"deleted\")\n",
        "\n"
      ],
      "metadata": {
        "id": "63xRU68vv3Qt"
      },
      "execution_count": null,
      "outputs": []
    },
    {
      "cell_type": "markdown",
      "source": [
        "================================================================================================================="
      ],
      "metadata": {
        "id": "soVh_1z4277a"
      }
    },
    {
      "cell_type": "markdown",
      "source": [
        "**25.Data Visualization**\n",
        "\n",
        "Streamlit supports several different charting libraries.the most basic library in our arsenal is Matplotlib.\n",
        "\n",
        "1.`st.line_chart()`\n",
        "\n",
        "2.`st.area_chart()`\n",
        "\n",
        "3.`st.bar_chart()`\n",
        "\n",
        "4.`st.pyplot()`\n",
        "\n",
        "5.`st.altair_chart()`\n",
        "\n",
        "6.`st.vega_lite_chart()`\n",
        "\n",
        "7.`st.plotly_chart()`\n",
        "\n",
        "8.`st.bokeh_chart()`\n",
        "\n",
        "9.`st.pydeck_chart()`\n",
        "\n",
        "10.`st.graphviz_chart()`\n",
        "\n",
        "11.`st.map()`"
      ],
      "metadata": {
        "id": "mIGH7ELx2-fG"
      }
    },
    {
      "cell_type": "markdown",
      "source": [
        "**25.1.`st.line_chart()`**\n",
        "\n",
        "This command uses the data's own column and indices to figure out the chart's spec. As a result this is easier to use for many \"just plot this\" scenarios, while being less customizable.\n",
        "\n",
        "If st.line_chart does not guess the data specification correctly, try specifying your desired chart using st.altair_chart.\n",
        "\n",
        "**Syntax**\n",
        "\n",
        "`st.line_chart(data=None, *, x=None, y=None, color=None, width=0, height=0, use_container_width=True)`"
      ],
      "metadata": {
        "id": "Cvxru3xV5SUz"
      }
    },
    {
      "cell_type": "code",
      "source": [
        "import streamlit as st\n",
        "import pandas as pd\n",
        "import numpy as np\n",
        "\n",
        "chart_data = pd.DataFrame({\n",
        "    'col1' : np.random.randn(20),\n",
        "    'col2' : np.random.randn(20),\n",
        "    'col3' : np.random.choice(['A','B','C'], 20)\n",
        "})\n",
        "\n",
        "st.line_chart(\n",
        "    chart_data,\n",
        "    x = 'col1',\n",
        "    y = 'col2',\n",
        "    color = 'col3'\n",
        ")"
      ],
      "metadata": {
        "id": "HpLL4SoI5osg"
      },
      "execution_count": null,
      "outputs": []
    },
    {
      "cell_type": "markdown",
      "source": [
        "================================================================================================================="
      ],
      "metadata": {
        "id": "D8nJ1ArK5whs"
      }
    },
    {
      "cell_type": "markdown",
      "source": [
        "**25.2.`st.area_chart()`**\n",
        "\n",
        "The main difference is this command uses the data's own column and indices to figure out the chart's spec. As a result this is easier to use for many \"just plot this\" scenarios, while being less customizable.\n",
        "\n",
        "If st.area_chart does not guess the data specification correctly, try specifying your desired chart using st.altair_chart.\n",
        "\n",
        "**Syntax**\n",
        "\n",
        "`st.area_chart(data=None, *, x=None, y=None, color=None, width=0, height=0, use_container_width=True)`"
      ],
      "metadata": {
        "id": "ug6qt1lO5y8v"
      }
    },
    {
      "cell_type": "code",
      "source": [
        "import streamlit as st\n",
        "import pandas as pd\n",
        "import numpy as np\n",
        "\n",
        "chart_data = pd.DataFrame(\n",
        "    np.random.randn(20, 3),\n",
        "    columns = ['a', 'b', 'c'])\n",
        "\n",
        "st.area_chart(chart_data)"
      ],
      "metadata": {
        "id": "Tmiftq216JNq"
      },
      "execution_count": null,
      "outputs": []
    },
    {
      "cell_type": "markdown",
      "source": [
        "================================================================================================================="
      ],
      "metadata": {
        "id": "SACbsiAf6Mz5"
      }
    },
    {
      "cell_type": "markdown",
      "source": [
        "**25.3.`st.bar_chart()`**\n",
        "\n",
        "The main difference is this command uses the data's own column and indices to figure out the chart's spec. As a result this is easier to use for many \"just plot this\" scenarios, while being less customizable.\n",
        "\n",
        "If st.bar_chart does not guess the data specification correctly, try specifying your desired chart using st.altair_chart.\n",
        "\n",
        "**Syntax**\n",
        "\n",
        "`st.bar_chart(data=None, *, x=None, y=None, color=None, width=0, height=0, use_container_width=True)`"
      ],
      "metadata": {
        "id": "2gMtIYay6PWO"
      }
    },
    {
      "cell_type": "code",
      "source": [
        "import streamlit as st\n",
        "import pandas as pd\n",
        "import numpy as np\n",
        "\n",
        "chart_data = pd.DataFrame(\n",
        "    np.random.randn(20, 3),\n",
        "    columns=[\"a\", \"b\", \"c\"])\n",
        "\n",
        "st.bar_chart(chart_data)"
      ],
      "metadata": {
        "id": "IFgfgPzY6dvP"
      },
      "execution_count": null,
      "outputs": []
    },
    {
      "cell_type": "markdown",
      "source": [
        "================================================================================================================="
      ],
      "metadata": {
        "id": "1vXIt4136ht8"
      }
    },
    {
      "cell_type": "markdown",
      "source": [
        "**25.4.`st.pyplot()`**\n",
        "\n",
        "Display a matplotlib.pyplot figure.\n",
        "\n",
        "**Syntax**\n",
        "\n",
        "`st.pyplot(fig=None, clear_figure=None, use_container_width=True, **kwargs)`"
      ],
      "metadata": {
        "id": "-bgt6atW6kId"
      }
    },
    {
      "cell_type": "code",
      "source": [
        "import streamlit as st\n",
        "import matplotlib.pyplot as plt\n",
        "import numpy as np\n",
        "\n",
        "arr = np.random.normal(1, 1, size=100)\n",
        "fig, ax = plt.subplots()\n",
        "ax.hist(arr, bins=20)\n",
        "\n",
        "st.pyplot(fig)"
      ],
      "metadata": {
        "id": "XWLYpQcH62eu"
      },
      "execution_count": null,
      "outputs": []
    },
    {
      "cell_type": "markdown",
      "source": [
        "================================================================================================================="
      ],
      "metadata": {
        "id": "0hXjuRSi66BJ"
      }
    },
    {
      "cell_type": "markdown",
      "source": [
        "**25.5.`st.altair_chart()`**\n",
        "\n",
        "Display a chart using the Altair library.\n",
        "\n",
        "**Syntax**\n",
        "\n",
        "`st.altair_chart(altair_chart, use_container_width=False, theme=\"streamlit\")`"
      ],
      "metadata": {
        "id": "yW0nXFJN695n"
      }
    },
    {
      "cell_type": "code",
      "source": [
        "import streamlit as st\n",
        "import pandas as pd\n",
        "import numpy as np\n",
        "import altair as alt\n",
        "\n",
        "chart_data = pd.DataFrame(\n",
        "    np.random.randn(20, 3),\n",
        "    columns=['a', 'b', 'c'])\n",
        "\n",
        "c = alt.Chart(chart_data).mark_circle().encode(\n",
        "    x='a', y='b', size='c', color='c', tooltip=['a', 'b', 'c'])\n",
        "\n",
        "st.altair_chart(c, use_container_width=True)"
      ],
      "metadata": {
        "id": "GcflVrav7Njo"
      },
      "execution_count": null,
      "outputs": []
    },
    {
      "cell_type": "markdown",
      "source": [
        "================================================================================================================="
      ],
      "metadata": {
        "id": "pib0MMrG7Qqi"
      }
    },
    {
      "cell_type": "markdown",
      "source": [
        "**25.6.`st.vega_lite_chart()`**\n",
        "\n",
        "Display a chart using the Vega-Lite library.\n",
        "\n",
        "**Syntax**\n",
        "\n",
        "`st.vega_lite_chart(data=None, spec=None, use_container_width=False, theme=\"streamlit\", **kwargs)`"
      ],
      "metadata": {
        "id": "gTRCBSRB7WN3"
      }
    },
    {
      "cell_type": "code",
      "source": [
        "import streamlit as st\n",
        "import pandas as pd\n",
        "import numpy as np\n",
        "\n",
        "chart_data = pd.DataFrame(\n",
        "    np.random.randn(200, 3),\n",
        "    columns=['a', 'b', 'c'])\n",
        "\n",
        "st.vega_lite_chart(chart_data, {\n",
        "    'mark': {'type': 'circle', 'tooltip': True},\n",
        "    'encoding': {\n",
        "        'x': {'field': 'a', 'type': 'quantitative'},\n",
        "        'y': {'field': 'b', 'type': 'quantitative'},\n",
        "        'size': {'field': 'c', 'type': 'quantitative'},\n",
        "        'color': {'field': 'c', 'type': 'quantitative'},\n",
        "    },\n",
        "})"
      ],
      "metadata": {
        "id": "i5EK5-1V7pXp"
      },
      "execution_count": null,
      "outputs": []
    },
    {
      "cell_type": "markdown",
      "source": [
        "================================================================================================================="
      ],
      "metadata": {
        "id": "5i3x_9Yk7t9M"
      }
    },
    {
      "cell_type": "markdown",
      "source": [
        "**25.7.`st.plotly_chart()`**\n",
        "\n",
        "Display an interactive Plotly chart.\n",
        "\n",
        "Plotly is a charting library for Python. The arguments to this function closely follow the ones for Plotly's plot() function.\n",
        "\n",
        "**Syntax**\n",
        "\n",
        "`st.plotly_chart(figure_or_data, use_container_width=False, sharing=\"streamlit\", theme=\"streamlit\", **kwargs)`"
      ],
      "metadata": {
        "id": "0qNTn8-I7wKn"
      }
    },
    {
      "cell_type": "code",
      "source": [
        "import plotly.express as px\n",
        "import streamlit as st\n",
        "\n",
        "st.subheader(\"Define a custom colorscale\")\n",
        "df = px.data.iris()\n",
        "fig = px.scatter(\n",
        "    df,\n",
        "    x=\"sepal_width\",\n",
        "    y=\"sepal_length\",\n",
        "    color=\"sepal_length\",\n",
        "    color_continuous_scale=\"reds\",\n",
        ")\n",
        "\n",
        "tab1, tab2 = st.tabs([\"Streamlit theme (default)\", \"Plotly native theme\"])\n",
        "with tab1:\n",
        "    st.plotly_chart(fig, theme=\"streamlit\", use_container_width=True)\n",
        "with tab2:\n",
        "    st.plotly_chart(fig, theme=None, use_container_width=True)"
      ],
      "metadata": {
        "id": "w6fW43pb8DJx"
      },
      "execution_count": null,
      "outputs": []
    },
    {
      "cell_type": "markdown",
      "source": [
        "================================================================================================================="
      ],
      "metadata": {
        "id": "SY6W4tXJ8IRL"
      }
    },
    {
      "cell_type": "markdown",
      "source": [
        "**25.8.`st.bokeh_chart()`**\n",
        "\n",
        "Display an interactive Bokeh chart.\n",
        "\n",
        "Bokeh is a charting library for Python. The arguments to this function closely follow the ones for Bokeh's show function.\n",
        "\n",
        "**Syntax**\n",
        "\n",
        "`st.bokeh_chart(figure, use_container_width=False)`"
      ],
      "metadata": {
        "id": "LUYBRVXL8K0T"
      }
    },
    {
      "cell_type": "code",
      "source": [
        "import streamlit as st\n",
        "from bokeh.plotting import figure\n",
        "\n",
        "x = [1, 2, 3, 4, 5]\n",
        "y = [6, 7, 2, 4, 5]\n",
        "\n",
        "p = figure(\n",
        "    title='simple line example',\n",
        "    x_axis_label='x',\n",
        "    y_axis_label='y')\n",
        "\n",
        "p.line(x, y, legend_label='Trend', line_width=2)\n",
        "\n",
        "st.bokeh_chart(p, use_container_width=True)"
      ],
      "metadata": {
        "id": "WF8C6a_e8cyn"
      },
      "execution_count": null,
      "outputs": []
    },
    {
      "cell_type": "markdown",
      "source": [
        "================================================================================================================="
      ],
      "metadata": {
        "id": "pEBz9_X78gQd"
      }
    },
    {
      "cell_type": "markdown",
      "source": [
        "**25.9.`st.pydeck_chart()`**\n",
        "\n",
        "Draw a chart using the PyDeck library.\n",
        "\n",
        "This supports 3D maps, point clouds, and more! More info about PyDeck at https://deckgl.readthedocs.io/en/latest/.\n",
        "\n",
        "When using this command, Mapbox provides the map tiles to render map content. Note that Mapbox is a third-party product, the use of which is governed by Mapbox's Terms of Use.\n",
        "\n",
        "**Syntax**\n",
        "\n",
        "`st.pydeck_chart(pydeck_obj=None, use_container_width=False)`"
      ],
      "metadata": {
        "id": "Yq4iRhhS8iag"
      }
    },
    {
      "cell_type": "code",
      "source": [
        "import streamlit as st\n",
        "import pandas as pd\n",
        "import numpy as np\n",
        "import pydeck as pdk\n",
        "\n",
        "chart_data = pd.DataFrame(\n",
        "   np.random.randn(1000, 2) / [50, 50] + [37.76, -122.4],\n",
        "   columns=['lat', 'lon'])\n",
        "\n",
        "st.pydeck_chart(pdk.Deck(\n",
        "    map_style=None,\n",
        "    initial_view_state=pdk.ViewState(\n",
        "        latitude=37.76,\n",
        "        longitude=-122.4,\n",
        "        zoom=11,\n",
        "        pitch=50,\n",
        "    ),\n",
        "    layers=[\n",
        "        pdk.Layer(\n",
        "           'HexagonLayer',\n",
        "           data=chart_data,\n",
        "           get_position='[lon, lat]',\n",
        "           radius=200,\n",
        "           elevation_scale=4,\n",
        "           elevation_range=[0, 1000],\n",
        "           pickable=True,\n",
        "           extruded=True,\n",
        "        ),\n",
        "        pdk.Layer(\n",
        "            'ScatterplotLayer',\n",
        "            data=chart_data,\n",
        "            get_position='[lon, lat]',\n",
        "            get_color='[200, 30, 0, 160]',\n",
        "            get_radius=200,\n",
        "        ),\n",
        "    ],\n",
        "))"
      ],
      "metadata": {
        "id": "H7M0YeTf8-bA"
      },
      "execution_count": null,
      "outputs": []
    },
    {
      "cell_type": "markdown",
      "source": [
        "================================================================================================================="
      ],
      "metadata": {
        "id": "mGc8DLXQ9B4W"
      }
    },
    {
      "cell_type": "markdown",
      "source": [
        "**25.10.`st.graphviz_chart()`**\n",
        "\n",
        "Display a graph using the dagre-d3 library.\n",
        "\n",
        "**Syntax**\n",
        "\n",
        "`st.graphviz_chart(figure_or_dot, use_container_width=False)`"
      ],
      "metadata": {
        "id": "a59sWuxI9EYg"
      }
    },
    {
      "cell_type": "code",
      "source": [
        "import streamlit as st\n",
        "import graphviz\n",
        "\n",
        "# Create a graphlib graph object\n",
        "graph = graphviz.Digraph()\n",
        "graph.edge('run', 'intr')\n",
        "graph.edge('intr', 'runbl')\n",
        "graph.edge('runbl', 'run')\n",
        "graph.edge('run', 'kernel')\n",
        "graph.edge('kernel', 'zombie')\n",
        "graph.edge('kernel', 'sleep')\n",
        "graph.edge('kernel', 'runmem')\n",
        "graph.edge('sleep', 'swap')\n",
        "graph.edge('swap', 'runswap')\n",
        "graph.edge('runswap', 'new')\n",
        "graph.edge('runswap', 'runmem')\n",
        "graph.edge('new', 'runmem')\n",
        "graph.edge('sleep', 'runmem')\n",
        "\n",
        "st.graphviz_chart(graph)"
      ],
      "metadata": {
        "id": "vJoWyir-9Vft"
      },
      "execution_count": null,
      "outputs": []
    },
    {
      "cell_type": "markdown",
      "source": [
        "================================================================================================================="
      ],
      "metadata": {
        "id": "JohB9nz89an9"
      }
    },
    {
      "cell_type": "markdown",
      "source": [
        "**25.11.`st.map()`**\n",
        "\n",
        "Display a map with a scatterplot overlaid onto it.\n",
        "\n",
        "**Syntax**\n",
        "\n",
        "`st.map(data=None, *, latitude=None, longitude=None, color=None, size=None, zoom=None, use_container_width=True)`"
      ],
      "metadata": {
        "id": "iWVEEXsl9csB"
      }
    },
    {
      "cell_type": "code",
      "source": [
        "import streamlit as st\n",
        "import pandas as pd\n",
        "import numpy as np\n",
        "\n",
        "df = pd.DataFrame(\n",
        "    np.random.randn(1000, 2) / [50, 50] + [37.76, -122.4],\n",
        "    columns=['lat', 'lon'])\n",
        "\n",
        "st.map(df)"
      ],
      "metadata": {
        "id": "Vh25h0H89szY"
      },
      "execution_count": null,
      "outputs": []
    },
    {
      "cell_type": "markdown",
      "source": [
        "================================================================================================================="
      ],
      "metadata": {
        "id": "nof201a99wXI"
      }
    },
    {
      "cell_type": "markdown",
      "source": [
        "**26.`st.data_editor()`**\n",
        "\n",
        "Display a data editor widget.\n",
        "\n",
        "The data editor widget allows you to edit dataframes and many other data structures in a table-like UI.\n",
        "\n",
        "**Syntax**\n",
        "\n",
        "`st.data_editor(data, *, width=None, height=None, use_container_width=False, hide_index=None, column_order=None, column_config=None, num_rows=\"fixed\", disabled=False, key=None, on_change=None, args=None, kwargs=None)`"
      ],
      "metadata": {
        "id": "RybjkzXZ9ysS"
      }
    },
    {
      "cell_type": "code",
      "source": [
        "import streamlit as st\n",
        "import pandas as pd\n",
        "\n",
        "df = pd.DataFrame(\n",
        "    [\n",
        "       {\"command\": \"st.selectbox\", \"rating\": 4, \"is_widget\": True},\n",
        "       {\"command\": \"st.balloons\", \"rating\": 5, \"is_widget\": False},\n",
        "       {\"command\": \"st.time_input\", \"rating\": 3, \"is_widget\": True},\n",
        "   ]\n",
        ")\n",
        "edited_df = st.data_editor(df)\n",
        "\n",
        "favorite_command = edited_df.loc[edited_df[\"rating\"].idxmax()][\"command\"]\n",
        "st.markdown(f\"Your favorite command is **{favorite_command}** 🎈\")"
      ],
      "metadata": {
        "id": "ixHhmjcgAHAY"
      },
      "execution_count": null,
      "outputs": []
    },
    {
      "cell_type": "markdown",
      "source": [
        "================================================================================================================="
      ],
      "metadata": {
        "id": "b-lP18lAALz5"
      }
    },
    {
      "cell_type": "markdown",
      "source": [],
      "metadata": {
        "id": "4n_N0nwvAdpq"
      }
    }
  ]
}